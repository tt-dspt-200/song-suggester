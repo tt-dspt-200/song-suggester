{
  "nbformat": 4,
  "nbformat_minor": 0,
  "metadata": {
    "kernelspec": {
      "display_name": "Python 3",
      "language": "python",
      "name": "python3"
    },
    "language_info": {
      "codemirror_mode": {
        "name": "ipython",
        "version": 3
      },
      "file_extension": ".py",
      "mimetype": "text/x-python",
      "name": "python",
      "nbconvert_exporter": "python",
      "pygments_lexer": "ipython3",
      "version": "3.8.5"
    },
    "colab": {
      "name": "01_SW_Model_Development.ipynb",
      "provenance": [],
      "collapsed_sections": [
        "MF-5bapK7Huo",
        "VDe5yq7J7Huo",
        "Oi4k1dQL7Hup"
      ]
    }
  },
  "cells": [
    {
      "cell_type": "markdown",
      "metadata": {
        "id": "bEcO0iTo7Hua"
      },
      "source": [
        "# Spotify Song Suggester\n",
        "\n",
        "## Team Members\n",
        "- Sara West, DSPT8 Unit 4\n",
        "- Yeraldina Estrella, DSPT9 Unit 3\n",
        "- Eugene Sheely, DSPT9 Unit 3\n",
        "\n",
        "## Project Description\n",
        "A user will input some basic information about a song enjoyed. The song suggester will evaluate the song and find 5 similar songs the user may also enjoy."
      ]
    },
    {
      "cell_type": "code",
      "metadata": {
        "colab": {
          "base_uri": "https://localhost:8080/"
        },
        "id": "Fn3qeyi57Huk",
        "outputId": "751b3c0d-e4be-4391-fcb9-5aec3eb820a8"
      },
      "source": [
        "# Import required packages\n",
        "import numpy as np\n",
        "import pandas as pd\n",
        "import tensorflow as tf\n",
        "\n",
        "print(f'Numpy Version: {np.__version__}')\n",
        "print(f'Pandas Version: {np.__version__}')\n",
        "print(f'Tensorflow Version: {tf.__version__}')"
      ],
      "execution_count": 1,
      "outputs": [
        {
          "output_type": "stream",
          "text": [
            "Numpy Version: 1.19.5\n",
            "Pandas Version: 1.19.5\n",
            "Tensorflow Version: 2.4.1\n"
          ],
          "name": "stdout"
        }
      ]
    },
    {
      "cell_type": "code",
      "metadata": {
        "colab": {
          "base_uri": "https://localhost:8080/"
        },
        "id": "I3WwHppSG7vQ",
        "outputId": "2f5b10d7-bccb-4fb8-f781-9a64335fcb64"
      },
      "source": [
        "!pip install sklearn"
      ],
      "execution_count": 2,
      "outputs": [
        {
          "output_type": "stream",
          "text": [
            "Requirement already satisfied: sklearn in /usr/local/lib/python3.7/dist-packages (0.0)\n",
            "Requirement already satisfied: scikit-learn in /usr/local/lib/python3.7/dist-packages (from sklearn) (0.22.2.post1)\n",
            "Requirement already satisfied: scipy>=0.17.0 in /usr/local/lib/python3.7/dist-packages (from scikit-learn->sklearn) (1.4.1)\n",
            "Requirement already satisfied: numpy>=1.11.0 in /usr/local/lib/python3.7/dist-packages (from scikit-learn->sklearn) (1.19.5)\n",
            "Requirement already satisfied: joblib>=0.11 in /usr/local/lib/python3.7/dist-packages (from scikit-learn->sklearn) (1.0.1)\n"
          ],
          "name": "stdout"
        }
      ]
    },
    {
      "cell_type": "code",
      "metadata": {
        "colab": {
          "base_uri": "https://localhost:8080/"
        },
        "id": "j9pWgndpHPZP",
        "outputId": "b33ad035-865d-43f4-f02c-9b85add5495e"
      },
      "source": [
        "!pip install --upgrade category_encoders"
      ],
      "execution_count": 3,
      "outputs": [
        {
          "output_type": "stream",
          "text": [
            "Collecting category_encoders\n",
            "\u001b[?25l  Downloading https://files.pythonhosted.org/packages/44/57/fcef41c248701ee62e8325026b90c432adea35555cbc870aff9cfba23727/category_encoders-2.2.2-py2.py3-none-any.whl (80kB)\n",
            "\r\u001b[K     |████                            | 10kB 15.6MB/s eta 0:00:01\r\u001b[K     |████████▏                       | 20kB 10.1MB/s eta 0:00:01\r\u001b[K     |████████████▏                   | 30kB 7.2MB/s eta 0:00:01\r\u001b[K     |████████████████▎               | 40kB 7.3MB/s eta 0:00:01\r\u001b[K     |████████████████████▎           | 51kB 4.0MB/s eta 0:00:01\r\u001b[K     |████████████████████████▍       | 61kB 4.5MB/s eta 0:00:01\r\u001b[K     |████████████████████████████▍   | 71kB 4.8MB/s eta 0:00:01\r\u001b[K     |████████████████████████████████| 81kB 3.4MB/s \n",
            "\u001b[?25hRequirement already satisfied, skipping upgrade: pandas>=0.21.1 in /usr/local/lib/python3.7/dist-packages (from category_encoders) (1.1.5)\n",
            "Requirement already satisfied, skipping upgrade: patsy>=0.5.1 in /usr/local/lib/python3.7/dist-packages (from category_encoders) (0.5.1)\n",
            "Requirement already satisfied, skipping upgrade: scikit-learn>=0.20.0 in /usr/local/lib/python3.7/dist-packages (from category_encoders) (0.22.2.post1)\n",
            "Requirement already satisfied, skipping upgrade: scipy>=1.0.0 in /usr/local/lib/python3.7/dist-packages (from category_encoders) (1.4.1)\n",
            "Requirement already satisfied, skipping upgrade: numpy>=1.14.0 in /usr/local/lib/python3.7/dist-packages (from category_encoders) (1.19.5)\n",
            "Requirement already satisfied, skipping upgrade: statsmodels>=0.9.0 in /usr/local/lib/python3.7/dist-packages (from category_encoders) (0.10.2)\n",
            "Requirement already satisfied, skipping upgrade: python-dateutil>=2.7.3 in /usr/local/lib/python3.7/dist-packages (from pandas>=0.21.1->category_encoders) (2.8.1)\n",
            "Requirement already satisfied, skipping upgrade: pytz>=2017.2 in /usr/local/lib/python3.7/dist-packages (from pandas>=0.21.1->category_encoders) (2018.9)\n",
            "Requirement already satisfied, skipping upgrade: six in /usr/local/lib/python3.7/dist-packages (from patsy>=0.5.1->category_encoders) (1.15.0)\n",
            "Requirement already satisfied, skipping upgrade: joblib>=0.11 in /usr/local/lib/python3.7/dist-packages (from scikit-learn>=0.20.0->category_encoders) (1.0.1)\n",
            "Installing collected packages: category-encoders\n",
            "Successfully installed category-encoders-2.2.2\n"
          ],
          "name": "stdout"
        }
      ]
    },
    {
      "cell_type": "code",
      "metadata": {
        "colab": {
          "base_uri": "https://localhost:8080/"
        },
        "id": "oMlP7QhBlcHa",
        "outputId": "8a93d0f8-cc57-4a0c-a334-d7fcd0dcb3d4"
      },
      "source": [
        "from sklearn.neighbors import NearestNeighbors\r\n",
        "import category_encoders as ce "
      ],
      "execution_count": 4,
      "outputs": [
        {
          "output_type": "stream",
          "text": [
            "/usr/local/lib/python3.7/dist-packages/statsmodels/tools/_testing.py:19: FutureWarning: pandas.util.testing is deprecated. Use the functions in the public API at pandas.testing instead.\n",
            "  import pandas.util.testing as tm\n"
          ],
          "name": "stderr"
        }
      ]
    },
    {
      "cell_type": "code",
      "metadata": {
        "id": "3mOzu8QdCbIZ"
      },
      "source": [
        "pd.set_option('display.max_columns', None)\r\n",
        "pd.set_option('display.max_colwidth', 200)"
      ],
      "execution_count": 5,
      "outputs": []
    },
    {
      "cell_type": "markdown",
      "metadata": {
        "id": "cDu2wU4N7Hum"
      },
      "source": [
        "## Load Data"
      ]
    },
    {
      "cell_type": "code",
      "metadata": {
        "colab": {
          "base_uri": "https://localhost:8080/"
        },
        "id": "1W7rJh4pIPNr",
        "outputId": "58c11964-28d1-45ad-f4f3-220b05dbf8fb"
      },
      "source": [
        "# from google.colab import drive, files\r\n",
        "# uploaded = files.upload()\r\n",
        "# data files too large to store on GitHub\r\n",
        "from google.colab import drive \r\n",
        "drive.mount(\"/content/drive\")"
      ],
      "execution_count": 6,
      "outputs": [
        {
          "output_type": "stream",
          "text": [
            "Mounted at /content/drive\n"
          ],
          "name": "stdout"
        }
      ]
    },
    {
      "cell_type": "markdown",
      "metadata": {
        "id": "8diGlqGyhHtb"
      },
      "source": [
        "###Primary Dataset, Songs"
      ]
    },
    {
      "cell_type": "code",
      "metadata": {
        "colab": {
          "base_uri": "https://localhost:8080/",
          "height": 365
        },
        "id": "xH4QgulJ7Hum",
        "outputId": "ee648f62-9ac9-41c5-fadb-80aae71db3b3"
      },
      "source": [
        "# Load dataset\r\n",
        "path ='/content/drive/My Drive/Data/spotify_data.csv'\r\n",
        "data = pd.read_csv(path)\r\n",
        "print(data.shape)\r\n",
        "data.sample(4)"
      ],
      "execution_count": 7,
      "outputs": [
        {
          "output_type": "stream",
          "text": [
            "(174389, 19)\n"
          ],
          "name": "stdout"
        },
        {
          "output_type": "execute_result",
          "data": {
            "text/html": [
              "<div>\n",
              "<style scoped>\n",
              "    .dataframe tbody tr th:only-of-type {\n",
              "        vertical-align: middle;\n",
              "    }\n",
              "\n",
              "    .dataframe tbody tr th {\n",
              "        vertical-align: top;\n",
              "    }\n",
              "\n",
              "    .dataframe thead th {\n",
              "        text-align: right;\n",
              "    }\n",
              "</style>\n",
              "<table border=\"1\" class=\"dataframe\">\n",
              "  <thead>\n",
              "    <tr style=\"text-align: right;\">\n",
              "      <th></th>\n",
              "      <th>acousticness</th>\n",
              "      <th>artists</th>\n",
              "      <th>danceability</th>\n",
              "      <th>duration_ms</th>\n",
              "      <th>energy</th>\n",
              "      <th>explicit</th>\n",
              "      <th>id</th>\n",
              "      <th>instrumentalness</th>\n",
              "      <th>key</th>\n",
              "      <th>liveness</th>\n",
              "      <th>loudness</th>\n",
              "      <th>mode</th>\n",
              "      <th>name</th>\n",
              "      <th>popularity</th>\n",
              "      <th>release_date</th>\n",
              "      <th>speechiness</th>\n",
              "      <th>tempo</th>\n",
              "      <th>valence</th>\n",
              "      <th>year</th>\n",
              "    </tr>\n",
              "  </thead>\n",
              "  <tbody>\n",
              "    <tr>\n",
              "      <th>131545</th>\n",
              "      <td>0.848</td>\n",
              "      <td>['Banda Sinaloense El Recodo De Cruz Lizarraga']</td>\n",
              "      <td>0.269</td>\n",
              "      <td>173827</td>\n",
              "      <td>0.5920</td>\n",
              "      <td>0</td>\n",
              "      <td>6r52JkwN4Lx2u865o4PYje</td>\n",
              "      <td>0.95200</td>\n",
              "      <td>10</td>\n",
              "      <td>0.2280</td>\n",
              "      <td>-9.482</td>\n",
              "      <td>1</td>\n",
              "      <td>Por una Mujer Casada</td>\n",
              "      <td>19</td>\n",
              "      <td>1963-09-11</td>\n",
              "      <td>0.0463</td>\n",
              "      <td>187.902</td>\n",
              "      <td>0.870</td>\n",
              "      <td>1963</td>\n",
              "    </tr>\n",
              "    <tr>\n",
              "      <th>11134</th>\n",
              "      <td>0.389</td>\n",
              "      <td>['Leo Sayer']</td>\n",
              "      <td>0.597</td>\n",
              "      <td>253227</td>\n",
              "      <td>0.3420</td>\n",
              "      <td>0</td>\n",
              "      <td>2TcwEYyydQuEMJwdmSgVLD</td>\n",
              "      <td>0.00003</td>\n",
              "      <td>8</td>\n",
              "      <td>0.1140</td>\n",
              "      <td>-8.167</td>\n",
              "      <td>1</td>\n",
              "      <td>When I Need You - Remastered</td>\n",
              "      <td>54</td>\n",
              "      <td>1976</td>\n",
              "      <td>0.0299</td>\n",
              "      <td>109.609</td>\n",
              "      <td>0.110</td>\n",
              "      <td>1976</td>\n",
              "    </tr>\n",
              "    <tr>\n",
              "      <th>81437</th>\n",
              "      <td>0.784</td>\n",
              "      <td>['Sonny Rollins']</td>\n",
              "      <td>0.485</td>\n",
              "      <td>471173</td>\n",
              "      <td>0.0735</td>\n",
              "      <td>0</td>\n",
              "      <td>6W25U2EbDixQbLbqpjz0TT</td>\n",
              "      <td>0.85500</td>\n",
              "      <td>6</td>\n",
              "      <td>0.0951</td>\n",
              "      <td>-20.188</td>\n",
              "      <td>1</td>\n",
              "      <td>Solitude</td>\n",
              "      <td>17</td>\n",
              "      <td>1957</td>\n",
              "      <td>0.0709</td>\n",
              "      <td>75.939</td>\n",
              "      <td>0.332</td>\n",
              "      <td>1957</td>\n",
              "    </tr>\n",
              "    <tr>\n",
              "      <th>115765</th>\n",
              "      <td>0.630</td>\n",
              "      <td>['Dave Brubeck']</td>\n",
              "      <td>0.601</td>\n",
              "      <td>146707</td>\n",
              "      <td>0.4700</td>\n",
              "      <td>0</td>\n",
              "      <td>2RpXpY7tp5RjbKopUuwlix</td>\n",
              "      <td>0.00007</td>\n",
              "      <td>5</td>\n",
              "      <td>0.2810</td>\n",
              "      <td>-13.341</td>\n",
              "      <td>0</td>\n",
              "      <td>Theme From \"Mr. Broadway\"</td>\n",
              "      <td>26</td>\n",
              "      <td>1966</td>\n",
              "      <td>0.0291</td>\n",
              "      <td>110.735</td>\n",
              "      <td>0.880</td>\n",
              "      <td>1966</td>\n",
              "    </tr>\n",
              "  </tbody>\n",
              "</table>\n",
              "</div>"
            ],
            "text/plain": [
              "        acousticness                                           artists  \\\n",
              "131545         0.848  ['Banda Sinaloense El Recodo De Cruz Lizarraga']   \n",
              "11134          0.389                                     ['Leo Sayer']   \n",
              "81437          0.784                                 ['Sonny Rollins']   \n",
              "115765         0.630                                  ['Dave Brubeck']   \n",
              "\n",
              "        danceability  duration_ms  energy  explicit                      id  \\\n",
              "131545         0.269       173827  0.5920         0  6r52JkwN4Lx2u865o4PYje   \n",
              "11134          0.597       253227  0.3420         0  2TcwEYyydQuEMJwdmSgVLD   \n",
              "81437          0.485       471173  0.0735         0  6W25U2EbDixQbLbqpjz0TT   \n",
              "115765         0.601       146707  0.4700         0  2RpXpY7tp5RjbKopUuwlix   \n",
              "\n",
              "        instrumentalness  key  liveness  loudness  mode  \\\n",
              "131545           0.95200   10    0.2280    -9.482     1   \n",
              "11134            0.00003    8    0.1140    -8.167     1   \n",
              "81437            0.85500    6    0.0951   -20.188     1   \n",
              "115765           0.00007    5    0.2810   -13.341     0   \n",
              "\n",
              "                                name  popularity release_date  speechiness  \\\n",
              "131545          Por una Mujer Casada          19   1963-09-11       0.0463   \n",
              "11134   When I Need You - Remastered          54         1976       0.0299   \n",
              "81437                       Solitude          17         1957       0.0709   \n",
              "115765     Theme From \"Mr. Broadway\"          26         1966       0.0291   \n",
              "\n",
              "          tempo  valence  year  \n",
              "131545  187.902    0.870  1963  \n",
              "11134   109.609    0.110  1976  \n",
              "81437    75.939    0.332  1957  \n",
              "115765  110.735    0.880  1966  "
            ]
          },
          "metadata": {
            "tags": []
          },
          "execution_count": 7
        }
      ]
    },
    {
      "cell_type": "code",
      "metadata": {
        "colab": {
          "base_uri": "https://localhost:8080/",
          "height": 521
        },
        "id": "gtba2gbHfudK",
        "outputId": "458ac9bd-11ba-4833-d5a1-8f3232a6bb83"
      },
      "source": [
        "data.drop(columns=['release_date'], inplace=True)\r\n",
        "print(data.shape)\r\n",
        "data.sample(4)"
      ],
      "execution_count": 8,
      "outputs": [
        {
          "output_type": "stream",
          "text": [
            "(174389, 18)\n"
          ],
          "name": "stdout"
        },
        {
          "output_type": "execute_result",
          "data": {
            "text/html": [
              "<div>\n",
              "<style scoped>\n",
              "    .dataframe tbody tr th:only-of-type {\n",
              "        vertical-align: middle;\n",
              "    }\n",
              "\n",
              "    .dataframe tbody tr th {\n",
              "        vertical-align: top;\n",
              "    }\n",
              "\n",
              "    .dataframe thead th {\n",
              "        text-align: right;\n",
              "    }\n",
              "</style>\n",
              "<table border=\"1\" class=\"dataframe\">\n",
              "  <thead>\n",
              "    <tr style=\"text-align: right;\">\n",
              "      <th></th>\n",
              "      <th>acousticness</th>\n",
              "      <th>artists</th>\n",
              "      <th>danceability</th>\n",
              "      <th>duration_ms</th>\n",
              "      <th>energy</th>\n",
              "      <th>explicit</th>\n",
              "      <th>id</th>\n",
              "      <th>instrumentalness</th>\n",
              "      <th>key</th>\n",
              "      <th>liveness</th>\n",
              "      <th>loudness</th>\n",
              "      <th>mode</th>\n",
              "      <th>name</th>\n",
              "      <th>popularity</th>\n",
              "      <th>speechiness</th>\n",
              "      <th>tempo</th>\n",
              "      <th>valence</th>\n",
              "      <th>year</th>\n",
              "    </tr>\n",
              "  </thead>\n",
              "  <tbody>\n",
              "    <tr>\n",
              "      <th>120073</th>\n",
              "      <td>0.6350</td>\n",
              "      <td>['Aretha Franklin', 'Marvis Staples']</td>\n",
              "      <td>0.332</td>\n",
              "      <td>368333</td>\n",
              "      <td>0.8080</td>\n",
              "      <td>0</td>\n",
              "      <td>7xaEfxxPbV1GlxNpCoDA11</td>\n",
              "      <td>0.000000</td>\n",
              "      <td>5</td>\n",
              "      <td>0.777</td>\n",
              "      <td>-8.463</td>\n",
              "      <td>1</td>\n",
              "      <td>Oh Happy Day - Live at New Bethel Baptist Church, Detroit, MI - July 1987</td>\n",
              "      <td>36</td>\n",
              "      <td>0.0915</td>\n",
              "      <td>174.035</td>\n",
              "      <td>0.610</td>\n",
              "      <td>1987</td>\n",
              "    </tr>\n",
              "    <tr>\n",
              "      <th>89467</th>\n",
              "      <td>0.7450</td>\n",
              "      <td>['Duke Ellington']</td>\n",
              "      <td>0.611</td>\n",
              "      <td>179333</td>\n",
              "      <td>0.0975</td>\n",
              "      <td>0</td>\n",
              "      <td>02E4skBHp6ZyoEDgXHcQgu</td>\n",
              "      <td>0.856000</td>\n",
              "      <td>0</td>\n",
              "      <td>0.101</td>\n",
              "      <td>-11.570</td>\n",
              "      <td>1</td>\n",
              "      <td>Satin Doll</td>\n",
              "      <td>43</td>\n",
              "      <td>0.0289</td>\n",
              "      <td>88.835</td>\n",
              "      <td>0.399</td>\n",
              "      <td>1997</td>\n",
              "    </tr>\n",
              "    <tr>\n",
              "      <th>92150</th>\n",
              "      <td>0.0207</td>\n",
              "      <td>['Justin Bieber', 'Boyz II Men']</td>\n",
              "      <td>0.658</td>\n",
              "      <td>185560</td>\n",
              "      <td>0.6790</td>\n",
              "      <td>0</td>\n",
              "      <td>5Ea0FNlMDWkraQDlfOPrDv</td>\n",
              "      <td>0.000003</td>\n",
              "      <td>10</td>\n",
              "      <td>0.198</td>\n",
              "      <td>-8.606</td>\n",
              "      <td>0</td>\n",
              "      <td>Fa La La</td>\n",
              "      <td>57</td>\n",
              "      <td>0.0361</td>\n",
              "      <td>94.489</td>\n",
              "      <td>0.420</td>\n",
              "      <td>2011</td>\n",
              "    </tr>\n",
              "    <tr>\n",
              "      <th>18671</th>\n",
              "      <td>0.4500</td>\n",
              "      <td>['Andrew Peterson']</td>\n",
              "      <td>0.492</td>\n",
              "      <td>279373</td>\n",
              "      <td>0.3380</td>\n",
              "      <td>0</td>\n",
              "      <td>078X5eXgOPNjn08B9YbMH4</td>\n",
              "      <td>0.000181</td>\n",
              "      <td>2</td>\n",
              "      <td>0.120</td>\n",
              "      <td>-11.799</td>\n",
              "      <td>1</td>\n",
              "      <td>Isn't It Love - 2014 Version</td>\n",
              "      <td>35</td>\n",
              "      <td>0.0298</td>\n",
              "      <td>107.856</td>\n",
              "      <td>0.134</td>\n",
              "      <td>2014</td>\n",
              "    </tr>\n",
              "  </tbody>\n",
              "</table>\n",
              "</div>"
            ],
            "text/plain": [
              "        acousticness                                artists  danceability  \\\n",
              "120073        0.6350  ['Aretha Franklin', 'Marvis Staples']         0.332   \n",
              "89467         0.7450                     ['Duke Ellington']         0.611   \n",
              "92150         0.0207       ['Justin Bieber', 'Boyz II Men']         0.658   \n",
              "18671         0.4500                    ['Andrew Peterson']         0.492   \n",
              "\n",
              "        duration_ms  energy  explicit                      id  \\\n",
              "120073       368333  0.8080         0  7xaEfxxPbV1GlxNpCoDA11   \n",
              "89467        179333  0.0975         0  02E4skBHp6ZyoEDgXHcQgu   \n",
              "92150        185560  0.6790         0  5Ea0FNlMDWkraQDlfOPrDv   \n",
              "18671        279373  0.3380         0  078X5eXgOPNjn08B9YbMH4   \n",
              "\n",
              "        instrumentalness  key  liveness  loudness  mode  \\\n",
              "120073          0.000000    5     0.777    -8.463     1   \n",
              "89467           0.856000    0     0.101   -11.570     1   \n",
              "92150           0.000003   10     0.198    -8.606     0   \n",
              "18671           0.000181    2     0.120   -11.799     1   \n",
              "\n",
              "                                                                             name  \\\n",
              "120073  Oh Happy Day - Live at New Bethel Baptist Church, Detroit, MI - July 1987   \n",
              "89467                                                                  Satin Doll   \n",
              "92150                                                                    Fa La La   \n",
              "18671                                                Isn't It Love - 2014 Version   \n",
              "\n",
              "        popularity  speechiness    tempo  valence  year  \n",
              "120073          36       0.0915  174.035    0.610  1987  \n",
              "89467           43       0.0289   88.835    0.399  1997  \n",
              "92150           57       0.0361   94.489    0.420  2011  \n",
              "18671           35       0.0298  107.856    0.134  2014  "
            ]
          },
          "metadata": {
            "tags": []
          },
          "execution_count": 8
        }
      ]
    },
    {
      "cell_type": "code",
      "metadata": {
        "colab": {
          "base_uri": "https://localhost:8080/"
        },
        "id": "Asp6dZJNttnZ",
        "outputId": "6efa3db8-50ac-4618-a7fe-901f54ec272d"
      },
      "source": [
        "#check for exact duplicate rows\r\n",
        "data.duplicated().sum()"
      ],
      "execution_count": 9,
      "outputs": [
        {
          "output_type": "execute_result",
          "data": {
            "text/plain": [
              "2159"
            ]
          },
          "metadata": {
            "tags": []
          },
          "execution_count": 9
        }
      ]
    },
    {
      "cell_type": "code",
      "metadata": {
        "colab": {
          "base_uri": "https://localhost:8080/"
        },
        "id": "jmo-_VrmuMjJ",
        "outputId": "93a909ad-1d31-4375-8fe6-4d92a57d11b1"
      },
      "source": [
        "data.drop_duplicates(inplace=True)\r\n",
        "print(data.shape)\r\n",
        "print(data.id.nunique()) #verify only unique song id's remain"
      ],
      "execution_count": 10,
      "outputs": [
        {
          "output_type": "stream",
          "text": [
            "(172230, 18)\n",
            "172230\n"
          ],
          "name": "stdout"
        }
      ]
    },
    {
      "cell_type": "code",
      "metadata": {
        "colab": {
          "base_uri": "https://localhost:8080/",
          "height": 451
        },
        "id": "9m2qRulnpSf_",
        "outputId": "ef537888-6e55-4e90-af19-d90fb0143308"
      },
      "source": [
        "data.sample(4)"
      ],
      "execution_count": 11,
      "outputs": [
        {
          "output_type": "execute_result",
          "data": {
            "text/html": [
              "<div>\n",
              "<style scoped>\n",
              "    .dataframe tbody tr th:only-of-type {\n",
              "        vertical-align: middle;\n",
              "    }\n",
              "\n",
              "    .dataframe tbody tr th {\n",
              "        vertical-align: top;\n",
              "    }\n",
              "\n",
              "    .dataframe thead th {\n",
              "        text-align: right;\n",
              "    }\n",
              "</style>\n",
              "<table border=\"1\" class=\"dataframe\">\n",
              "  <thead>\n",
              "    <tr style=\"text-align: right;\">\n",
              "      <th></th>\n",
              "      <th>acousticness</th>\n",
              "      <th>artists</th>\n",
              "      <th>danceability</th>\n",
              "      <th>duration_ms</th>\n",
              "      <th>energy</th>\n",
              "      <th>explicit</th>\n",
              "      <th>id</th>\n",
              "      <th>instrumentalness</th>\n",
              "      <th>key</th>\n",
              "      <th>liveness</th>\n",
              "      <th>loudness</th>\n",
              "      <th>mode</th>\n",
              "      <th>name</th>\n",
              "      <th>popularity</th>\n",
              "      <th>speechiness</th>\n",
              "      <th>tempo</th>\n",
              "      <th>valence</th>\n",
              "      <th>year</th>\n",
              "    </tr>\n",
              "  </thead>\n",
              "  <tbody>\n",
              "    <tr>\n",
              "      <th>51886</th>\n",
              "      <td>0.986</td>\n",
              "      <td>['Wolfgang Amadeus Mozart', 'Capella Istropolitana', 'Barry Wordsworth']</td>\n",
              "      <td>0.254</td>\n",
              "      <td>465000</td>\n",
              "      <td>0.0111</td>\n",
              "      <td>0</td>\n",
              "      <td>0CZBabrzal9Op6gEUdZJqV</td>\n",
              "      <td>0.314000</td>\n",
              "      <td>3</td>\n",
              "      <td>0.122</td>\n",
              "      <td>-22.698</td>\n",
              "      <td>1</td>\n",
              "      <td>Symphony No. 40 in G Minor, K. 550: II. Andante</td>\n",
              "      <td>45</td>\n",
              "      <td>0.0376</td>\n",
              "      <td>97.510</td>\n",
              "      <td>0.0399</td>\n",
              "      <td>1988</td>\n",
              "    </tr>\n",
              "    <tr>\n",
              "      <th>144138</th>\n",
              "      <td>0.958</td>\n",
              "      <td>['Suraiya', 'Hameeda Bano']</td>\n",
              "      <td>0.574</td>\n",
              "      <td>178422</td>\n",
              "      <td>0.4430</td>\n",
              "      <td>0</td>\n",
              "      <td>76yqbMdWyZCFt2pmeDrgkt</td>\n",
              "      <td>0.000000</td>\n",
              "      <td>1</td>\n",
              "      <td>0.494</td>\n",
              "      <td>-11.911</td>\n",
              "      <td>1</td>\n",
              "      <td>Bachpan Gaya Jawani Aai</td>\n",
              "      <td>0</td>\n",
              "      <td>0.0607</td>\n",
              "      <td>110.690</td>\n",
              "      <td>0.6860</td>\n",
              "      <td>1946</td>\n",
              "    </tr>\n",
              "    <tr>\n",
              "      <th>81896</th>\n",
              "      <td>0.713</td>\n",
              "      <td>['Kenny Drew']</td>\n",
              "      <td>0.475</td>\n",
              "      <td>438067</td>\n",
              "      <td>0.7490</td>\n",
              "      <td>0</td>\n",
              "      <td>1osjVaShUB9PdfBMZgXdN8</td>\n",
              "      <td>0.000458</td>\n",
              "      <td>2</td>\n",
              "      <td>0.185</td>\n",
              "      <td>-7.782</td>\n",
              "      <td>0</td>\n",
              "      <td>Undercurrent - Rudy Van Gelder Edition/2007 Remaster</td>\n",
              "      <td>19</td>\n",
              "      <td>0.0677</td>\n",
              "      <td>76.281</td>\n",
              "      <td>0.6700</td>\n",
              "      <td>1960</td>\n",
              "    </tr>\n",
              "    <tr>\n",
              "      <th>94583</th>\n",
              "      <td>0.991</td>\n",
              "      <td>['Danai Stratigopoulou', 'Panos Visvardis']</td>\n",
              "      <td>0.392</td>\n",
              "      <td>182173</td>\n",
              "      <td>0.3160</td>\n",
              "      <td>0</td>\n",
              "      <td>4K9P9H5l0xJbUV89GKtKPc</td>\n",
              "      <td>0.001610</td>\n",
              "      <td>2</td>\n",
              "      <td>0.378</td>\n",
              "      <td>-9.650</td>\n",
              "      <td>1</td>\n",
              "      <td>Dio Maura Matia</td>\n",
              "      <td>0</td>\n",
              "      <td>0.0388</td>\n",
              "      <td>112.605</td>\n",
              "      <td>0.4550</td>\n",
              "      <td>1930</td>\n",
              "    </tr>\n",
              "  </tbody>\n",
              "</table>\n",
              "</div>"
            ],
            "text/plain": [
              "        acousticness  \\\n",
              "51886          0.986   \n",
              "144138         0.958   \n",
              "81896          0.713   \n",
              "94583          0.991   \n",
              "\n",
              "                                                                         artists  \\\n",
              "51886   ['Wolfgang Amadeus Mozart', 'Capella Istropolitana', 'Barry Wordsworth']   \n",
              "144138                                               ['Suraiya', 'Hameeda Bano']   \n",
              "81896                                                             ['Kenny Drew']   \n",
              "94583                                ['Danai Stratigopoulou', 'Panos Visvardis']   \n",
              "\n",
              "        danceability  duration_ms  energy  explicit                      id  \\\n",
              "51886          0.254       465000  0.0111         0  0CZBabrzal9Op6gEUdZJqV   \n",
              "144138         0.574       178422  0.4430         0  76yqbMdWyZCFt2pmeDrgkt   \n",
              "81896          0.475       438067  0.7490         0  1osjVaShUB9PdfBMZgXdN8   \n",
              "94583          0.392       182173  0.3160         0  4K9P9H5l0xJbUV89GKtKPc   \n",
              "\n",
              "        instrumentalness  key  liveness  loudness  mode  \\\n",
              "51886           0.314000    3     0.122   -22.698     1   \n",
              "144138          0.000000    1     0.494   -11.911     1   \n",
              "81896           0.000458    2     0.185    -7.782     0   \n",
              "94583           0.001610    2     0.378    -9.650     1   \n",
              "\n",
              "                                                        name  popularity  \\\n",
              "51886        Symphony No. 40 in G Minor, K. 550: II. Andante          45   \n",
              "144138                               Bachpan Gaya Jawani Aai           0   \n",
              "81896   Undercurrent - Rudy Van Gelder Edition/2007 Remaster          19   \n",
              "94583                                        Dio Maura Matia           0   \n",
              "\n",
              "        speechiness    tempo  valence  year  \n",
              "51886        0.0376   97.510   0.0399  1988  \n",
              "144138       0.0607  110.690   0.6860  1946  \n",
              "81896        0.0677   76.281   0.6700  1960  \n",
              "94583        0.0388  112.605   0.4550  1930  "
            ]
          },
          "metadata": {
            "tags": []
          },
          "execution_count": 11
        }
      ]
    },
    {
      "cell_type": "code",
      "metadata": {
        "colab": {
          "base_uri": "https://localhost:8080/"
        },
        "id": "s5kE_SAkY6z1",
        "outputId": "da269b4a-642f-48c0-8482-6100ac6d8fd9"
      },
      "source": [
        "# view one song with multiple artists\r\n",
        "data.iloc[62729]"
      ],
      "execution_count": 12,
      "outputs": [
        {
          "output_type": "execute_result",
          "data": {
            "text/plain": [
              "acousticness                                                                                   0.919\n",
              "artists             ['Richard Adler', 'Jerry Ross', 'The Original Broadway Cast Of The Pajama Game']\n",
              "danceability                                                                                   0.595\n",
              "duration_ms                                                                                   106440\n",
              "energy                                                                                         0.139\n",
              "explicit                                                                                           0\n",
              "id                                                                            6kfWm0913KSuaYy8uTmWIX\n",
              "instrumentalness                                                                                   0\n",
              "key                                                                                                0\n",
              "liveness                                                                                       0.237\n",
              "loudness                                                                                     -15.205\n",
              "mode                                                                                               1\n",
              "name                                                               Hernando's Hideaway (Bonus Track)\n",
              "popularity                                                                                         7\n",
              "speechiness                                                                                   0.0792\n",
              "tempo                                                                                         94.629\n",
              "valence                                                                                         0.65\n",
              "year                                                                                            1954\n",
              "Name: 63357, dtype: object"
            ]
          },
          "metadata": {
            "tags": []
          },
          "execution_count": 12
        }
      ]
    },
    {
      "cell_type": "code",
      "metadata": {
        "colab": {
          "base_uri": "https://localhost:8080/"
        },
        "id": "trMeu3-Gg7v7",
        "outputId": "4a652f95-c091-4d8d-87d1-9313ebc2a7d5"
      },
      "source": [
        "data.artists.nunique()"
      ],
      "execution_count": 13,
      "outputs": [
        {
          "output_type": "execute_result",
          "data": {
            "text/plain": [
              "36195"
            ]
          },
          "metadata": {
            "tags": []
          },
          "execution_count": 13
        }
      ]
    },
    {
      "cell_type": "code",
      "metadata": {
        "colab": {
          "base_uri": "https://localhost:8080/"
        },
        "id": "iMTJ8bM7ShH8",
        "outputId": "bbb4025e-f61d-40ea-fbe2-22de2260fd37"
      },
      "source": [
        "# reduce artists column to only the first artist listed\r\n",
        "data['artists'] = data['artists'].apply(lambda x: x.split(',',1)[0])\r\n",
        "data['artists'] = data['artists'].apply(lambda x: x.strip(\"[']\"))\r\n",
        "data.artists.nunique()"
      ],
      "execution_count": 14,
      "outputs": [
        {
          "output_type": "execute_result",
          "data": {
            "text/plain": [
              "23169"
            ]
          },
          "metadata": {
            "tags": []
          },
          "execution_count": 14
        }
      ]
    },
    {
      "cell_type": "code",
      "metadata": {
        "colab": {
          "base_uri": "https://localhost:8080/",
          "height": 35
        },
        "id": "aEgT1BETTJ91",
        "outputId": "728f982d-53a3-455a-8ede-3ec0267f8c27"
      },
      "source": [
        "# verify artist column is as expected\r\n",
        "data.iloc[62729,1]"
      ],
      "execution_count": 15,
      "outputs": [
        {
          "output_type": "execute_result",
          "data": {
            "application/vnd.google.colaboratory.intrinsic+json": {
              "type": "string"
            },
            "text/plain": [
              "'Richard Adler'"
            ]
          },
          "metadata": {
            "tags": []
          },
          "execution_count": 15
        }
      ]
    },
    {
      "cell_type": "code",
      "metadata": {
        "colab": {
          "base_uri": "https://localhost:8080/"
        },
        "id": "3CStTxASq07Q",
        "outputId": "f08df86f-35a6-4472-aec2-ebba0e19a64b"
      },
      "source": [
        "data.dtypes"
      ],
      "execution_count": 16,
      "outputs": [
        {
          "output_type": "execute_result",
          "data": {
            "text/plain": [
              "acousticness        float64\n",
              "artists              object\n",
              "danceability        float64\n",
              "duration_ms           int64\n",
              "energy              float64\n",
              "explicit              int64\n",
              "id                   object\n",
              "instrumentalness    float64\n",
              "key                   int64\n",
              "liveness            float64\n",
              "loudness            float64\n",
              "mode                  int64\n",
              "name                 object\n",
              "popularity            int64\n",
              "speechiness         float64\n",
              "tempo               float64\n",
              "valence             float64\n",
              "year                  int64\n",
              "dtype: object"
            ]
          },
          "metadata": {
            "tags": []
          },
          "execution_count": 16
        }
      ]
    },
    {
      "cell_type": "markdown",
      "metadata": {
        "id": "1-ruK1XphT1H"
      },
      "source": [
        "### Genres dataset"
      ]
    },
    {
      "cell_type": "code",
      "metadata": {
        "colab": {
          "base_uri": "https://localhost:8080/",
          "height": 330
        },
        "id": "NwxEoA0FLDDc",
        "outputId": "9bd5753f-75ec-45da-d17a-336dff2e7bc9"
      },
      "source": [
        "# genres per artist\r\n",
        "path ='/content/drive/My Drive/Data/data_w_genres.csv'\r\n",
        "data_g = pd.read_csv(path)\r\n",
        "print(data_g.shape)\r\n",
        "data_g.sample(4)"
      ],
      "execution_count": 17,
      "outputs": [
        {
          "output_type": "stream",
          "text": [
            "(32539, 16)\n"
          ],
          "name": "stdout"
        },
        {
          "output_type": "execute_result",
          "data": {
            "text/html": [
              "<div>\n",
              "<style scoped>\n",
              "    .dataframe tbody tr th:only-of-type {\n",
              "        vertical-align: middle;\n",
              "    }\n",
              "\n",
              "    .dataframe tbody tr th {\n",
              "        vertical-align: top;\n",
              "    }\n",
              "\n",
              "    .dataframe thead th {\n",
              "        text-align: right;\n",
              "    }\n",
              "</style>\n",
              "<table border=\"1\" class=\"dataframe\">\n",
              "  <thead>\n",
              "    <tr style=\"text-align: right;\">\n",
              "      <th></th>\n",
              "      <th>artists</th>\n",
              "      <th>acousticness</th>\n",
              "      <th>danceability</th>\n",
              "      <th>duration_ms</th>\n",
              "      <th>energy</th>\n",
              "      <th>instrumentalness</th>\n",
              "      <th>liveness</th>\n",
              "      <th>loudness</th>\n",
              "      <th>speechiness</th>\n",
              "      <th>tempo</th>\n",
              "      <th>valence</th>\n",
              "      <th>popularity</th>\n",
              "      <th>key</th>\n",
              "      <th>mode</th>\n",
              "      <th>count</th>\n",
              "      <th>genres</th>\n",
              "    </tr>\n",
              "  </thead>\n",
              "  <tbody>\n",
              "    <tr>\n",
              "      <th>24535</th>\n",
              "      <td>Ruined Conflict</td>\n",
              "      <td>0.000947</td>\n",
              "      <td>0.4050</td>\n",
              "      <td>264000.0</td>\n",
              "      <td>0.688</td>\n",
              "      <td>0.637</td>\n",
              "      <td>0.1880</td>\n",
              "      <td>-7.562</td>\n",
              "      <td>0.0359</td>\n",
              "      <td>140.027</td>\n",
              "      <td>0.0615</td>\n",
              "      <td>10.0</td>\n",
              "      <td>1</td>\n",
              "      <td>1</td>\n",
              "      <td>2</td>\n",
              "      <td>['dark electro', 'futurepop']</td>\n",
              "    </tr>\n",
              "    <tr>\n",
              "      <th>5883</th>\n",
              "      <td>Craig Jessop</td>\n",
              "      <td>0.969000</td>\n",
              "      <td>0.0966</td>\n",
              "      <td>287200.0</td>\n",
              "      <td>0.170</td>\n",
              "      <td>0.843</td>\n",
              "      <td>0.1540</td>\n",
              "      <td>-23.428</td>\n",
              "      <td>0.0384</td>\n",
              "      <td>89.328</td>\n",
              "      <td>0.1500</td>\n",
              "      <td>38.0</td>\n",
              "      <td>10</td>\n",
              "      <td>1</td>\n",
              "      <td>2</td>\n",
              "      <td>[]</td>\n",
              "    </tr>\n",
              "    <tr>\n",
              "      <th>13037</th>\n",
              "      <td>James Harcourt</td>\n",
              "      <td>0.016700</td>\n",
              "      <td>0.8050</td>\n",
              "      <td>419736.0</td>\n",
              "      <td>0.631</td>\n",
              "      <td>0.752</td>\n",
              "      <td>0.0377</td>\n",
              "      <td>-8.443</td>\n",
              "      <td>0.0995</td>\n",
              "      <td>126.026</td>\n",
              "      <td>0.5770</td>\n",
              "      <td>0.0</td>\n",
              "      <td>10</td>\n",
              "      <td>0</td>\n",
              "      <td>2</td>\n",
              "      <td>[]</td>\n",
              "    </tr>\n",
              "    <tr>\n",
              "      <th>5274</th>\n",
              "      <td>Christmas Cello Music Orchestra</td>\n",
              "      <td>0.534000</td>\n",
              "      <td>0.4420</td>\n",
              "      <td>180000.0</td>\n",
              "      <td>0.543</td>\n",
              "      <td>0.919</td>\n",
              "      <td>0.1700</td>\n",
              "      <td>-15.651</td>\n",
              "      <td>0.0396</td>\n",
              "      <td>108.041</td>\n",
              "      <td>0.1160</td>\n",
              "      <td>0.0</td>\n",
              "      <td>9</td>\n",
              "      <td>1</td>\n",
              "      <td>2</td>\n",
              "      <td>['christmas product']</td>\n",
              "    </tr>\n",
              "  </tbody>\n",
              "</table>\n",
              "</div>"
            ],
            "text/plain": [
              "                               artists  acousticness  danceability  \\\n",
              "24535                  Ruined Conflict      0.000947        0.4050   \n",
              "5883                      Craig Jessop      0.969000        0.0966   \n",
              "13037                   James Harcourt      0.016700        0.8050   \n",
              "5274   Christmas Cello Music Orchestra      0.534000        0.4420   \n",
              "\n",
              "       duration_ms  energy  instrumentalness  liveness  loudness  speechiness  \\\n",
              "24535     264000.0   0.688             0.637    0.1880    -7.562       0.0359   \n",
              "5883      287200.0   0.170             0.843    0.1540   -23.428       0.0384   \n",
              "13037     419736.0   0.631             0.752    0.0377    -8.443       0.0995   \n",
              "5274      180000.0   0.543             0.919    0.1700   -15.651       0.0396   \n",
              "\n",
              "         tempo  valence  popularity  key  mode  count  \\\n",
              "24535  140.027   0.0615        10.0    1     1      2   \n",
              "5883    89.328   0.1500        38.0   10     1      2   \n",
              "13037  126.026   0.5770         0.0   10     0      2   \n",
              "5274   108.041   0.1160         0.0    9     1      2   \n",
              "\n",
              "                              genres  \n",
              "24535  ['dark electro', 'futurepop']  \n",
              "5883                              []  \n",
              "13037                             []  \n",
              "5274           ['christmas product']  "
            ]
          },
          "metadata": {
            "tags": []
          },
          "execution_count": 17
        }
      ]
    },
    {
      "cell_type": "code",
      "metadata": {
        "colab": {
          "base_uri": "https://localhost:8080/",
          "height": 202
        },
        "id": "5g9S7asrawMc",
        "outputId": "267a3620-6a8c-43c6-a15f-98d387de3a57"
      },
      "source": [
        "# reduce data_g to only the pertinent columns\r\n",
        "data_g = data_g[['artists', 'genres']]\r\n",
        "data_g.sample(5)"
      ],
      "execution_count": 18,
      "outputs": [
        {
          "output_type": "execute_result",
          "data": {
            "text/html": [
              "<div>\n",
              "<style scoped>\n",
              "    .dataframe tbody tr th:only-of-type {\n",
              "        vertical-align: middle;\n",
              "    }\n",
              "\n",
              "    .dataframe tbody tr th {\n",
              "        vertical-align: top;\n",
              "    }\n",
              "\n",
              "    .dataframe thead th {\n",
              "        text-align: right;\n",
              "    }\n",
              "</style>\n",
              "<table border=\"1\" class=\"dataframe\">\n",
              "  <thead>\n",
              "    <tr style=\"text-align: right;\">\n",
              "      <th></th>\n",
              "      <th>artists</th>\n",
              "      <th>genres</th>\n",
              "    </tr>\n",
              "  </thead>\n",
              "  <tbody>\n",
              "    <tr>\n",
              "      <th>15664</th>\n",
              "      <td>Klaus Hermanns</td>\n",
              "      <td>[]</td>\n",
              "    </tr>\n",
              "    <tr>\n",
              "      <th>28783</th>\n",
              "      <td>The Original</td>\n",
              "      <td>['broadway', 'show tunes']</td>\n",
              "    </tr>\n",
              "    <tr>\n",
              "      <th>21073</th>\n",
              "      <td>OLIVER GIL</td>\n",
              "      <td>[]</td>\n",
              "    </tr>\n",
              "    <tr>\n",
              "      <th>16087</th>\n",
              "      <td>Lagwagon</td>\n",
              "      <td>['melodic hardcore', 'punk', 'ska punk', 'skate punk', 'socal pop punk']</td>\n",
              "    </tr>\n",
              "    <tr>\n",
              "      <th>19440</th>\n",
              "      <td>Mike Douglas</td>\n",
              "      <td>['movie tunes']</td>\n",
              "    </tr>\n",
              "  </tbody>\n",
              "</table>\n",
              "</div>"
            ],
            "text/plain": [
              "              artists  \\\n",
              "15664  Klaus Hermanns   \n",
              "28783    The Original   \n",
              "21073      OLIVER GIL   \n",
              "16087        Lagwagon   \n",
              "19440    Mike Douglas   \n",
              "\n",
              "                                                                         genres  \n",
              "15664                                                                        []  \n",
              "28783                                                ['broadway', 'show tunes']  \n",
              "21073                                                                        []  \n",
              "16087  ['melodic hardcore', 'punk', 'ska punk', 'skate punk', 'socal pop punk']  \n",
              "19440                                                           ['movie tunes']  "
            ]
          },
          "metadata": {
            "tags": []
          },
          "execution_count": 18
        }
      ]
    },
    {
      "cell_type": "code",
      "metadata": {
        "colab": {
          "base_uri": "https://localhost:8080/"
        },
        "id": "HOYnEHGPNazY",
        "outputId": "2e77a315-1cd6-46a4-b437-c0bb97638626"
      },
      "source": [
        "data_g.artists.nunique()"
      ],
      "execution_count": 19,
      "outputs": [
        {
          "output_type": "execute_result",
          "data": {
            "text/plain": [
              "32539"
            ]
          },
          "metadata": {
            "tags": []
          },
          "execution_count": 19
        }
      ]
    },
    {
      "cell_type": "code",
      "metadata": {
        "colab": {
          "base_uri": "https://localhost:8080/"
        },
        "id": "XHtM2DT7xoG8",
        "outputId": "418f4235-4dc8-46a3-f514-1ce38b2fc7a8"
      },
      "source": [
        "data_g.isnull().sum()"
      ],
      "execution_count": 20,
      "outputs": [
        {
          "output_type": "execute_result",
          "data": {
            "text/plain": [
              "artists    0\n",
              "genres     0\n",
              "dtype: int64"
            ]
          },
          "metadata": {
            "tags": []
          },
          "execution_count": 20
        }
      ]
    },
    {
      "cell_type": "code",
      "metadata": {
        "colab": {
          "base_uri": "https://localhost:8080/",
          "height": 202
        },
        "id": "d72VRPbHcFOl",
        "outputId": "03c16d8e-3fba-4801-da20-641b16324108"
      },
      "source": [
        "# create \"not specified\" genre for empty sets\r\n",
        "data_g['genres'] = data_g['genres'].apply(lambda x: str(x).replace(\"[]\",\"['not specified']\"))\r\n",
        "data_g.sample(5)"
      ],
      "execution_count": 21,
      "outputs": [
        {
          "output_type": "execute_result",
          "data": {
            "text/html": [
              "<div>\n",
              "<style scoped>\n",
              "    .dataframe tbody tr th:only-of-type {\n",
              "        vertical-align: middle;\n",
              "    }\n",
              "\n",
              "    .dataframe tbody tr th {\n",
              "        vertical-align: top;\n",
              "    }\n",
              "\n",
              "    .dataframe thead th {\n",
              "        text-align: right;\n",
              "    }\n",
              "</style>\n",
              "<table border=\"1\" class=\"dataframe\">\n",
              "  <thead>\n",
              "    <tr style=\"text-align: right;\">\n",
              "      <th></th>\n",
              "      <th>artists</th>\n",
              "      <th>genres</th>\n",
              "    </tr>\n",
              "  </thead>\n",
              "  <tbody>\n",
              "    <tr>\n",
              "      <th>3093</th>\n",
              "      <td>Big Pun</td>\n",
              "      <td>['bronx hip hop', 'east coast hip hop', 'gangster rap', 'hardcore hip hop', 'hip hop', 'hip pop', 'rap', 'southern hip hop']</td>\n",
              "    </tr>\n",
              "    <tr>\n",
              "      <th>17540</th>\n",
              "      <td>Luis Vargas</td>\n",
              "      <td>['bachata', 'bachata dominicana', 'dominican pop', 'latin', 'tropical']</td>\n",
              "    </tr>\n",
              "    <tr>\n",
              "      <th>13656</th>\n",
              "      <td>Jeziel Quintela</td>\n",
              "      <td>['not specified']</td>\n",
              "    </tr>\n",
              "    <tr>\n",
              "      <th>13609</th>\n",
              "      <td>Jesse Lee Brooks</td>\n",
              "      <td>['not specified']</td>\n",
              "    </tr>\n",
              "    <tr>\n",
              "      <th>16218</th>\n",
              "      <td>Laszlo Heltay</td>\n",
              "      <td>['not specified']</td>\n",
              "    </tr>\n",
              "  </tbody>\n",
              "</table>\n",
              "</div>"
            ],
            "text/plain": [
              "                artists  \\\n",
              "3093            Big Pun   \n",
              "17540       Luis Vargas   \n",
              "13656   Jeziel Quintela   \n",
              "13609  Jesse Lee Brooks   \n",
              "16218     Laszlo Heltay   \n",
              "\n",
              "                                                                                                                             genres  \n",
              "3093   ['bronx hip hop', 'east coast hip hop', 'gangster rap', 'hardcore hip hop', 'hip hop', 'hip pop', 'rap', 'southern hip hop']  \n",
              "17540                                                       ['bachata', 'bachata dominicana', 'dominican pop', 'latin', 'tropical']  \n",
              "13656                                                                                                             ['not specified']  \n",
              "13609                                                                                                             ['not specified']  \n",
              "16218                                                                                                             ['not specified']  "
            ]
          },
          "metadata": {
            "tags": []
          },
          "execution_count": 21
        }
      ]
    },
    {
      "cell_type": "markdown",
      "metadata": {
        "id": "O7d4VDqNh60o"
      },
      "source": [
        "###New Dataset, Songs with Genres"
      ]
    },
    {
      "cell_type": "code",
      "metadata": {
        "colab": {
          "base_uri": "https://localhost:8080/",
          "height": 451
        },
        "id": "CLxiwofKh6Xj",
        "outputId": "76faad4e-dd75-4e37-f3c1-5e2c97f8d76b"
      },
      "source": [
        "df = pd.merge(data, data_g, how=\"left\", on = [\"artists\", \"artists\"])\r\n",
        "print(df.shape)\r\n",
        "df.sample(4)"
      ],
      "execution_count": 22,
      "outputs": [
        {
          "output_type": "stream",
          "text": [
            "(172230, 19)\n"
          ],
          "name": "stdout"
        },
        {
          "output_type": "execute_result",
          "data": {
            "text/html": [
              "<div>\n",
              "<style scoped>\n",
              "    .dataframe tbody tr th:only-of-type {\n",
              "        vertical-align: middle;\n",
              "    }\n",
              "\n",
              "    .dataframe tbody tr th {\n",
              "        vertical-align: top;\n",
              "    }\n",
              "\n",
              "    .dataframe thead th {\n",
              "        text-align: right;\n",
              "    }\n",
              "</style>\n",
              "<table border=\"1\" class=\"dataframe\">\n",
              "  <thead>\n",
              "    <tr style=\"text-align: right;\">\n",
              "      <th></th>\n",
              "      <th>acousticness</th>\n",
              "      <th>artists</th>\n",
              "      <th>danceability</th>\n",
              "      <th>duration_ms</th>\n",
              "      <th>energy</th>\n",
              "      <th>explicit</th>\n",
              "      <th>id</th>\n",
              "      <th>instrumentalness</th>\n",
              "      <th>key</th>\n",
              "      <th>liveness</th>\n",
              "      <th>loudness</th>\n",
              "      <th>mode</th>\n",
              "      <th>name</th>\n",
              "      <th>popularity</th>\n",
              "      <th>speechiness</th>\n",
              "      <th>tempo</th>\n",
              "      <th>valence</th>\n",
              "      <th>year</th>\n",
              "      <th>genres</th>\n",
              "    </tr>\n",
              "  </thead>\n",
              "  <tbody>\n",
              "    <tr>\n",
              "      <th>154846</th>\n",
              "      <td>0.00599</td>\n",
              "      <td>Mr. Bizz</td>\n",
              "      <td>0.804</td>\n",
              "      <td>390326</td>\n",
              "      <td>0.229</td>\n",
              "      <td>0</td>\n",
              "      <td>5AvNe4swiuDfy3nhPQS0nq</td>\n",
              "      <td>0.926000</td>\n",
              "      <td>6</td>\n",
              "      <td>0.109</td>\n",
              "      <td>-16.510</td>\n",
              "      <td>1</td>\n",
              "      <td>Jantra</td>\n",
              "      <td>0</td>\n",
              "      <td>0.0937</td>\n",
              "      <td>124.998</td>\n",
              "      <td>0.295</td>\n",
              "      <td>2010</td>\n",
              "      <td>['ambient dub techno']</td>\n",
              "    </tr>\n",
              "    <tr>\n",
              "      <th>165489</th>\n",
              "      <td>0.13400</td>\n",
              "      <td>Tom Scott</td>\n",
              "      <td>0.551</td>\n",
              "      <td>305467</td>\n",
              "      <td>0.336</td>\n",
              "      <td>0</td>\n",
              "      <td>6kvdI7vd2LRBvu0qGHTJUi</td>\n",
              "      <td>0.012800</td>\n",
              "      <td>5</td>\n",
              "      <td>0.070</td>\n",
              "      <td>-18.199</td>\n",
              "      <td>1</td>\n",
              "      <td>Amaretto</td>\n",
              "      <td>24</td>\n",
              "      <td>0.0290</td>\n",
              "      <td>79.847</td>\n",
              "      <td>0.235</td>\n",
              "      <td>1987</td>\n",
              "      <td>['jazz funk', 'smooth jazz']</td>\n",
              "    </tr>\n",
              "    <tr>\n",
              "      <th>49005</th>\n",
              "      <td>0.00313</td>\n",
              "      <td>Led Zeppelin</td>\n",
              "      <td>0.334</td>\n",
              "      <td>503840</td>\n",
              "      <td>0.798</td>\n",
              "      <td>0</td>\n",
              "      <td>6Xfw7G8EZXh9QIh8faW6q4</td>\n",
              "      <td>0.023900</td>\n",
              "      <td>5</td>\n",
              "      <td>0.964</td>\n",
              "      <td>-8.289</td>\n",
              "      <td>0</td>\n",
              "      <td>Since I've Been Loving You - (Live at MSG 1973) [Remaster]</td>\n",
              "      <td>42</td>\n",
              "      <td>0.0478</td>\n",
              "      <td>112.089</td>\n",
              "      <td>0.410</td>\n",
              "      <td>1976</td>\n",
              "      <td>['album rock', 'classic rock', 'hard rock', 'rock']</td>\n",
              "    </tr>\n",
              "    <tr>\n",
              "      <th>135025</th>\n",
              "      <td>0.86900</td>\n",
              "      <td>Los Alegres De Teran</td>\n",
              "      <td>0.489</td>\n",
              "      <td>188773</td>\n",
              "      <td>0.379</td>\n",
              "      <td>0</td>\n",
              "      <td>3AY2QF9wmdKgiCzVIQeMVX</td>\n",
              "      <td>0.000004</td>\n",
              "      <td>4</td>\n",
              "      <td>0.262</td>\n",
              "      <td>-5.143</td>\n",
              "      <td>1</td>\n",
              "      <td>Caminos De Guanajuato</td>\n",
              "      <td>33</td>\n",
              "      <td>0.1020</td>\n",
              "      <td>184.868</td>\n",
              "      <td>0.798</td>\n",
              "      <td>1987</td>\n",
              "      <td>['norteno']</td>\n",
              "    </tr>\n",
              "  </tbody>\n",
              "</table>\n",
              "</div>"
            ],
            "text/plain": [
              "        acousticness               artists  danceability  duration_ms  energy  \\\n",
              "154846       0.00599              Mr. Bizz         0.804       390326   0.229   \n",
              "165489       0.13400             Tom Scott         0.551       305467   0.336   \n",
              "49005        0.00313          Led Zeppelin         0.334       503840   0.798   \n",
              "135025       0.86900  Los Alegres De Teran         0.489       188773   0.379   \n",
              "\n",
              "        explicit                      id  instrumentalness  key  liveness  \\\n",
              "154846         0  5AvNe4swiuDfy3nhPQS0nq          0.926000    6     0.109   \n",
              "165489         0  6kvdI7vd2LRBvu0qGHTJUi          0.012800    5     0.070   \n",
              "49005          0  6Xfw7G8EZXh9QIh8faW6q4          0.023900    5     0.964   \n",
              "135025         0  3AY2QF9wmdKgiCzVIQeMVX          0.000004    4     0.262   \n",
              "\n",
              "        loudness  mode  \\\n",
              "154846   -16.510     1   \n",
              "165489   -18.199     1   \n",
              "49005     -8.289     0   \n",
              "135025    -5.143     1   \n",
              "\n",
              "                                                              name  \\\n",
              "154846                                                      Jantra   \n",
              "165489                                                    Amaretto   \n",
              "49005   Since I've Been Loving You - (Live at MSG 1973) [Remaster]   \n",
              "135025                                       Caminos De Guanajuato   \n",
              "\n",
              "        popularity  speechiness    tempo  valence  year  \\\n",
              "154846           0       0.0937  124.998    0.295  2010   \n",
              "165489          24       0.0290   79.847    0.235  1987   \n",
              "49005           42       0.0478  112.089    0.410  1976   \n",
              "135025          33       0.1020  184.868    0.798  1987   \n",
              "\n",
              "                                                     genres  \n",
              "154846                               ['ambient dub techno']  \n",
              "165489                         ['jazz funk', 'smooth jazz']  \n",
              "49005   ['album rock', 'classic rock', 'hard rock', 'rock']  \n",
              "135025                                          ['norteno']  "
            ]
          },
          "metadata": {
            "tags": []
          },
          "execution_count": 22
        }
      ]
    },
    {
      "cell_type": "code",
      "metadata": {
        "colab": {
          "base_uri": "https://localhost:8080/"
        },
        "id": "6hSJZd26xRNm",
        "outputId": "f5b48e97-b241-4266-f41e-ccf61cb952f9"
      },
      "source": [
        "df.isnull().sum() # It appears that not all artists in the song list were included in the genre list"
      ],
      "execution_count": 23,
      "outputs": [
        {
          "output_type": "execute_result",
          "data": {
            "text/plain": [
              "acousticness           0\n",
              "artists                0\n",
              "danceability           0\n",
              "duration_ms            0\n",
              "energy                 0\n",
              "explicit               0\n",
              "id                     0\n",
              "instrumentalness       0\n",
              "key                    0\n",
              "liveness               0\n",
              "loudness               0\n",
              "mode                   0\n",
              "name                   0\n",
              "popularity             0\n",
              "speechiness            0\n",
              "tempo                  0\n",
              "valence                0\n",
              "year                   0\n",
              "genres              2174\n",
              "dtype: int64"
            ]
          },
          "metadata": {
            "tags": []
          },
          "execution_count": 23
        }
      ]
    },
    {
      "cell_type": "code",
      "metadata": {
        "colab": {
          "base_uri": "https://localhost:8080/"
        },
        "id": "iLAtvAfyyiB7",
        "outputId": "157620c7-8b95-4f5d-a177-da5c1565ad0f"
      },
      "source": [
        "# fill in empty genres\r\n",
        "df['genres'].fillna(\"['not specified']\", inplace = True)\r\n",
        "df.isnull().sum()"
      ],
      "execution_count": 24,
      "outputs": [
        {
          "output_type": "execute_result",
          "data": {
            "text/plain": [
              "acousticness        0\n",
              "artists             0\n",
              "danceability        0\n",
              "duration_ms         0\n",
              "energy              0\n",
              "explicit            0\n",
              "id                  0\n",
              "instrumentalness    0\n",
              "key                 0\n",
              "liveness            0\n",
              "loudness            0\n",
              "mode                0\n",
              "name                0\n",
              "popularity          0\n",
              "speechiness         0\n",
              "tempo               0\n",
              "valence             0\n",
              "year                0\n",
              "genres              0\n",
              "dtype: int64"
            ]
          },
          "metadata": {
            "tags": []
          },
          "execution_count": 24
        }
      ]
    },
    {
      "cell_type": "markdown",
      "metadata": {
        "id": "hx6NS4A-7Hum"
      },
      "source": [
        "## Data Exploration"
      ]
    },
    {
      "cell_type": "code",
      "metadata": {
        "colab": {
          "base_uri": "https://localhost:8080/",
          "height": 314
        },
        "id": "nw5PMcxl7Hun",
        "outputId": "7685f6c1-bda0-4f1c-9945-b00d81d21a08"
      },
      "source": [
        "# Descriptive statistics for key fields\n",
        "df.describe()\n",
        "# Add visualizations (where applicable)"
      ],
      "execution_count": 25,
      "outputs": [
        {
          "output_type": "execute_result",
          "data": {
            "text/html": [
              "<div>\n",
              "<style scoped>\n",
              "    .dataframe tbody tr th:only-of-type {\n",
              "        vertical-align: middle;\n",
              "    }\n",
              "\n",
              "    .dataframe tbody tr th {\n",
              "        vertical-align: top;\n",
              "    }\n",
              "\n",
              "    .dataframe thead th {\n",
              "        text-align: right;\n",
              "    }\n",
              "</style>\n",
              "<table border=\"1\" class=\"dataframe\">\n",
              "  <thead>\n",
              "    <tr style=\"text-align: right;\">\n",
              "      <th></th>\n",
              "      <th>acousticness</th>\n",
              "      <th>danceability</th>\n",
              "      <th>duration_ms</th>\n",
              "      <th>energy</th>\n",
              "      <th>explicit</th>\n",
              "      <th>instrumentalness</th>\n",
              "      <th>key</th>\n",
              "      <th>liveness</th>\n",
              "      <th>loudness</th>\n",
              "      <th>mode</th>\n",
              "      <th>popularity</th>\n",
              "      <th>speechiness</th>\n",
              "      <th>tempo</th>\n",
              "      <th>valence</th>\n",
              "      <th>year</th>\n",
              "    </tr>\n",
              "  </thead>\n",
              "  <tbody>\n",
              "    <tr>\n",
              "      <th>count</th>\n",
              "      <td>172230.000000</td>\n",
              "      <td>172230.000000</td>\n",
              "      <td>1.722300e+05</td>\n",
              "      <td>172230.000000</td>\n",
              "      <td>172230.000000</td>\n",
              "      <td>172230.000000</td>\n",
              "      <td>172230.000000</td>\n",
              "      <td>172230.000000</td>\n",
              "      <td>172230.000000</td>\n",
              "      <td>172230.000000</td>\n",
              "      <td>172230.000000</td>\n",
              "      <td>172230.000000</td>\n",
              "      <td>172230.000000</td>\n",
              "      <td>172230.000000</td>\n",
              "      <td>172230.000000</td>\n",
              "    </tr>\n",
              "    <tr>\n",
              "      <th>mean</th>\n",
              "      <td>0.501914</td>\n",
              "      <td>0.536246</td>\n",
              "      <td>2.326718e+05</td>\n",
              "      <td>0.480989</td>\n",
              "      <td>0.067956</td>\n",
              "      <td>0.194968</td>\n",
              "      <td>5.204395</td>\n",
              "      <td>0.211396</td>\n",
              "      <td>-11.777780</td>\n",
              "      <td>0.703147</td>\n",
              "      <td>25.925913</td>\n",
              "      <td>0.105896</td>\n",
              "      <td>116.937762</td>\n",
              "      <td>0.525249</td>\n",
              "      <td>1976.582001</td>\n",
              "    </tr>\n",
              "    <tr>\n",
              "      <th>std</th>\n",
              "      <td>0.379394</td>\n",
              "      <td>0.175858</td>\n",
              "      <td>1.471768e+05</td>\n",
              "      <td>0.272032</td>\n",
              "      <td>0.251670</td>\n",
              "      <td>0.332974</td>\n",
              "      <td>3.517851</td>\n",
              "      <td>0.180661</td>\n",
              "      <td>5.690105</td>\n",
              "      <td>0.456873</td>\n",
              "      <td>21.866745</td>\n",
              "      <td>0.183053</td>\n",
              "      <td>30.290836</td>\n",
              "      <td>0.264392</td>\n",
              "      <td>26.708673</td>\n",
              "    </tr>\n",
              "    <tr>\n",
              "      <th>min</th>\n",
              "      <td>0.000000</td>\n",
              "      <td>0.000000</td>\n",
              "      <td>4.937000e+03</td>\n",
              "      <td>0.000000</td>\n",
              "      <td>0.000000</td>\n",
              "      <td>0.000000</td>\n",
              "      <td>0.000000</td>\n",
              "      <td>0.000000</td>\n",
              "      <td>-60.000000</td>\n",
              "      <td>0.000000</td>\n",
              "      <td>0.000000</td>\n",
              "      <td>0.000000</td>\n",
              "      <td>0.000000</td>\n",
              "      <td>0.000000</td>\n",
              "      <td>1920.000000</td>\n",
              "    </tr>\n",
              "    <tr>\n",
              "      <th>25%</th>\n",
              "      <td>0.091300</td>\n",
              "      <td>0.414000</td>\n",
              "      <td>1.662000e+05</td>\n",
              "      <td>0.248000</td>\n",
              "      <td>0.000000</td>\n",
              "      <td>0.000000</td>\n",
              "      <td>2.000000</td>\n",
              "      <td>0.099300</td>\n",
              "      <td>-14.935750</td>\n",
              "      <td>0.000000</td>\n",
              "      <td>1.000000</td>\n",
              "      <td>0.035200</td>\n",
              "      <td>93.834000</td>\n",
              "      <td>0.311000</td>\n",
              "      <td>1955.000000</td>\n",
              "    </tr>\n",
              "    <tr>\n",
              "      <th>50%</th>\n",
              "      <td>0.523000</td>\n",
              "      <td>0.547000</td>\n",
              "      <td>2.057175e+05</td>\n",
              "      <td>0.463000</td>\n",
              "      <td>0.000000</td>\n",
              "      <td>0.000498</td>\n",
              "      <td>5.000000</td>\n",
              "      <td>0.138000</td>\n",
              "      <td>-10.867000</td>\n",
              "      <td>1.000000</td>\n",
              "      <td>26.000000</td>\n",
              "      <td>0.045400</td>\n",
              "      <td>115.657000</td>\n",
              "      <td>0.537000</td>\n",
              "      <td>1977.000000</td>\n",
              "    </tr>\n",
              "    <tr>\n",
              "      <th>75%</th>\n",
              "      <td>0.896000</td>\n",
              "      <td>0.668000</td>\n",
              "      <td>2.656000e+05</td>\n",
              "      <td>0.708000</td>\n",
              "      <td>0.000000</td>\n",
              "      <td>0.238000</td>\n",
              "      <td>8.000000</td>\n",
              "      <td>0.270000</td>\n",
              "      <td>-7.532000</td>\n",
              "      <td>1.000000</td>\n",
              "      <td>42.000000</td>\n",
              "      <td>0.076000</td>\n",
              "      <td>134.991000</td>\n",
              "      <td>0.744000</td>\n",
              "      <td>1998.000000</td>\n",
              "    </tr>\n",
              "    <tr>\n",
              "      <th>max</th>\n",
              "      <td>0.996000</td>\n",
              "      <td>0.988000</td>\n",
              "      <td>5.338302e+06</td>\n",
              "      <td>1.000000</td>\n",
              "      <td>1.000000</td>\n",
              "      <td>1.000000</td>\n",
              "      <td>11.000000</td>\n",
              "      <td>1.000000</td>\n",
              "      <td>3.855000</td>\n",
              "      <td>1.000000</td>\n",
              "      <td>100.000000</td>\n",
              "      <td>0.971000</td>\n",
              "      <td>243.507000</td>\n",
              "      <td>1.000000</td>\n",
              "      <td>2021.000000</td>\n",
              "    </tr>\n",
              "  </tbody>\n",
              "</table>\n",
              "</div>"
            ],
            "text/plain": [
              "        acousticness   danceability   duration_ms         energy  \\\n",
              "count  172230.000000  172230.000000  1.722300e+05  172230.000000   \n",
              "mean        0.501914       0.536246  2.326718e+05       0.480989   \n",
              "std         0.379394       0.175858  1.471768e+05       0.272032   \n",
              "min         0.000000       0.000000  4.937000e+03       0.000000   \n",
              "25%         0.091300       0.414000  1.662000e+05       0.248000   \n",
              "50%         0.523000       0.547000  2.057175e+05       0.463000   \n",
              "75%         0.896000       0.668000  2.656000e+05       0.708000   \n",
              "max         0.996000       0.988000  5.338302e+06       1.000000   \n",
              "\n",
              "            explicit  instrumentalness            key       liveness  \\\n",
              "count  172230.000000     172230.000000  172230.000000  172230.000000   \n",
              "mean        0.067956          0.194968       5.204395       0.211396   \n",
              "std         0.251670          0.332974       3.517851       0.180661   \n",
              "min         0.000000          0.000000       0.000000       0.000000   \n",
              "25%         0.000000          0.000000       2.000000       0.099300   \n",
              "50%         0.000000          0.000498       5.000000       0.138000   \n",
              "75%         0.000000          0.238000       8.000000       0.270000   \n",
              "max         1.000000          1.000000      11.000000       1.000000   \n",
              "\n",
              "            loudness           mode     popularity    speechiness  \\\n",
              "count  172230.000000  172230.000000  172230.000000  172230.000000   \n",
              "mean      -11.777780       0.703147      25.925913       0.105896   \n",
              "std         5.690105       0.456873      21.866745       0.183053   \n",
              "min       -60.000000       0.000000       0.000000       0.000000   \n",
              "25%       -14.935750       0.000000       1.000000       0.035200   \n",
              "50%       -10.867000       1.000000      26.000000       0.045400   \n",
              "75%        -7.532000       1.000000      42.000000       0.076000   \n",
              "max         3.855000       1.000000     100.000000       0.971000   \n",
              "\n",
              "               tempo        valence           year  \n",
              "count  172230.000000  172230.000000  172230.000000  \n",
              "mean      116.937762       0.525249    1976.582001  \n",
              "std        30.290836       0.264392      26.708673  \n",
              "min         0.000000       0.000000    1920.000000  \n",
              "25%        93.834000       0.311000    1955.000000  \n",
              "50%       115.657000       0.537000    1977.000000  \n",
              "75%       134.991000       0.744000    1998.000000  \n",
              "max       243.507000       1.000000    2021.000000  "
            ]
          },
          "metadata": {
            "tags": []
          },
          "execution_count": 25
        }
      ]
    },
    {
      "cell_type": "code",
      "metadata": {
        "colab": {
          "base_uri": "https://localhost:8080/",
          "height": 171
        },
        "id": "MAfqQxwAmE50",
        "outputId": "88b8210d-bce9-4072-ea66-1c2e7e07293e"
      },
      "source": [
        "df.describe(include=[object])"
      ],
      "execution_count": 26,
      "outputs": [
        {
          "output_type": "execute_result",
          "data": {
            "text/html": [
              "<div>\n",
              "<style scoped>\n",
              "    .dataframe tbody tr th:only-of-type {\n",
              "        vertical-align: middle;\n",
              "    }\n",
              "\n",
              "    .dataframe tbody tr th {\n",
              "        vertical-align: top;\n",
              "    }\n",
              "\n",
              "    .dataframe thead th {\n",
              "        text-align: right;\n",
              "    }\n",
              "</style>\n",
              "<table border=\"1\" class=\"dataframe\">\n",
              "  <thead>\n",
              "    <tr style=\"text-align: right;\">\n",
              "      <th></th>\n",
              "      <th>artists</th>\n",
              "      <th>id</th>\n",
              "      <th>name</th>\n",
              "      <th>genres</th>\n",
              "    </tr>\n",
              "  </thead>\n",
              "  <tbody>\n",
              "    <tr>\n",
              "      <th>count</th>\n",
              "      <td>172230</td>\n",
              "      <td>172230</td>\n",
              "      <td>172230</td>\n",
              "      <td>172230</td>\n",
              "    </tr>\n",
              "    <tr>\n",
              "      <th>unique</th>\n",
              "      <td>23169</td>\n",
              "      <td>172230</td>\n",
              "      <td>137013</td>\n",
              "      <td>9512</td>\n",
              "    </tr>\n",
              "    <tr>\n",
              "      <th>top</th>\n",
              "      <td>Francisco Canaro</td>\n",
              "      <td>3C9oV51pSbrOJqcTrMdVyw</td>\n",
              "      <td>White Christmas</td>\n",
              "      <td>['not specified']</td>\n",
              "    </tr>\n",
              "    <tr>\n",
              "      <th>freq</th>\n",
              "      <td>2228</td>\n",
              "      <td>1</td>\n",
              "      <td>103</td>\n",
              "      <td>27923</td>\n",
              "    </tr>\n",
              "  </tbody>\n",
              "</table>\n",
              "</div>"
            ],
            "text/plain": [
              "                 artists                      id             name  \\\n",
              "count             172230                  172230           172230   \n",
              "unique             23169                  172230           137013   \n",
              "top     Francisco Canaro  3C9oV51pSbrOJqcTrMdVyw  White Christmas   \n",
              "freq                2228                       1              103   \n",
              "\n",
              "                   genres  \n",
              "count              172230  \n",
              "unique               9512  \n",
              "top     ['not specified']  \n",
              "freq                27923  "
            ]
          },
          "metadata": {
            "tags": []
          },
          "execution_count": 26
        }
      ]
    },
    {
      "cell_type": "code",
      "metadata": {
        "colab": {
          "base_uri": "https://localhost:8080/"
        },
        "id": "Cn-BesrBzdM7",
        "outputId": "6b2d42fc-744b-45ef-a4d1-1ee0569de630"
      },
      "source": [
        "print(round(100*27923/172230, 2), '% of songs have no genre specified')"
      ],
      "execution_count": 27,
      "outputs": [
        {
          "output_type": "stream",
          "text": [
            "16.21 % of songs have no genre specified\n"
          ],
          "name": "stdout"
        }
      ]
    },
    {
      "cell_type": "code",
      "metadata": {
        "colab": {
          "base_uri": "https://localhost:8080/",
          "height": 151
        },
        "id": "qavdu_uAmbkU",
        "outputId": "b6b2d25b-14d0-4a83-d5ce-d57a4b8bd6ed"
      },
      "source": [
        "df['artists'] = df.artists.astype(str).apply(lambda x: x.lower())\r\n",
        "df['name'] = df.name.astype(str).apply(lambda x: x.lower())\r\n",
        "df['genres'] = df.genres.astype(str).apply(lambda x: x.lower())\r\n",
        "df.sample()"
      ],
      "execution_count": 28,
      "outputs": [
        {
          "output_type": "execute_result",
          "data": {
            "text/html": [
              "<div>\n",
              "<style scoped>\n",
              "    .dataframe tbody tr th:only-of-type {\n",
              "        vertical-align: middle;\n",
              "    }\n",
              "\n",
              "    .dataframe tbody tr th {\n",
              "        vertical-align: top;\n",
              "    }\n",
              "\n",
              "    .dataframe thead th {\n",
              "        text-align: right;\n",
              "    }\n",
              "</style>\n",
              "<table border=\"1\" class=\"dataframe\">\n",
              "  <thead>\n",
              "    <tr style=\"text-align: right;\">\n",
              "      <th></th>\n",
              "      <th>acousticness</th>\n",
              "      <th>artists</th>\n",
              "      <th>danceability</th>\n",
              "      <th>duration_ms</th>\n",
              "      <th>energy</th>\n",
              "      <th>explicit</th>\n",
              "      <th>id</th>\n",
              "      <th>instrumentalness</th>\n",
              "      <th>key</th>\n",
              "      <th>liveness</th>\n",
              "      <th>loudness</th>\n",
              "      <th>mode</th>\n",
              "      <th>name</th>\n",
              "      <th>popularity</th>\n",
              "      <th>speechiness</th>\n",
              "      <th>tempo</th>\n",
              "      <th>valence</th>\n",
              "      <th>year</th>\n",
              "      <th>genres</th>\n",
              "    </tr>\n",
              "  </thead>\n",
              "  <tbody>\n",
              "    <tr>\n",
              "      <th>49777</th>\n",
              "      <td>0.829</td>\n",
              "      <td>nicola di bari</td>\n",
              "      <td>0.541</td>\n",
              "      <td>197733</td>\n",
              "      <td>0.415</td>\n",
              "      <td>0</td>\n",
              "      <td>7nxkNNVzWpuoBHSBoeKoYJ</td>\n",
              "      <td>0.00342</td>\n",
              "      <td>2</td>\n",
              "      <td>0.253</td>\n",
              "      <td>-13.981</td>\n",
              "      <td>1</td>\n",
              "      <td>el corazon es un gitano</td>\n",
              "      <td>51</td>\n",
              "      <td>0.0288</td>\n",
              "      <td>104.136</td>\n",
              "      <td>0.706</td>\n",
              "      <td>1980</td>\n",
              "      <td>['classic italian pop', 'pop romantico']</td>\n",
              "    </tr>\n",
              "  </tbody>\n",
              "</table>\n",
              "</div>"
            ],
            "text/plain": [
              "       acousticness         artists  danceability  duration_ms  energy  \\\n",
              "49777         0.829  nicola di bari         0.541       197733   0.415   \n",
              "\n",
              "       explicit                      id  instrumentalness  key  liveness  \\\n",
              "49777         0  7nxkNNVzWpuoBHSBoeKoYJ           0.00342    2     0.253   \n",
              "\n",
              "       loudness  mode                     name  popularity  speechiness  \\\n",
              "49777   -13.981     1  el corazon es un gitano          51       0.0288   \n",
              "\n",
              "         tempo  valence  year                                    genres  \n",
              "49777  104.136    0.706  1980  ['classic italian pop', 'pop romantico']  "
            ]
          },
          "metadata": {
            "tags": []
          },
          "execution_count": 28
        }
      ]
    },
    {
      "cell_type": "code",
      "metadata": {
        "colab": {
          "base_uri": "https://localhost:8080/",
          "height": 221
        },
        "id": "F1n-_HPPrlZ9",
        "outputId": "e8ee2def-4af1-4269-bfbe-18f71878d895"
      },
      "source": [
        "df.sample()"
      ],
      "execution_count": 29,
      "outputs": [
        {
          "output_type": "execute_result",
          "data": {
            "text/html": [
              "<div>\n",
              "<style scoped>\n",
              "    .dataframe tbody tr th:only-of-type {\n",
              "        vertical-align: middle;\n",
              "    }\n",
              "\n",
              "    .dataframe tbody tr th {\n",
              "        vertical-align: top;\n",
              "    }\n",
              "\n",
              "    .dataframe thead th {\n",
              "        text-align: right;\n",
              "    }\n",
              "</style>\n",
              "<table border=\"1\" class=\"dataframe\">\n",
              "  <thead>\n",
              "    <tr style=\"text-align: right;\">\n",
              "      <th></th>\n",
              "      <th>acousticness</th>\n",
              "      <th>artists</th>\n",
              "      <th>danceability</th>\n",
              "      <th>duration_ms</th>\n",
              "      <th>energy</th>\n",
              "      <th>explicit</th>\n",
              "      <th>id</th>\n",
              "      <th>instrumentalness</th>\n",
              "      <th>key</th>\n",
              "      <th>liveness</th>\n",
              "      <th>loudness</th>\n",
              "      <th>mode</th>\n",
              "      <th>name</th>\n",
              "      <th>popularity</th>\n",
              "      <th>speechiness</th>\n",
              "      <th>tempo</th>\n",
              "      <th>valence</th>\n",
              "      <th>year</th>\n",
              "      <th>genres</th>\n",
              "    </tr>\n",
              "  </thead>\n",
              "  <tbody>\n",
              "    <tr>\n",
              "      <th>120722</th>\n",
              "      <td>0.146</td>\n",
              "      <td>2pac</td>\n",
              "      <td>0.772</td>\n",
              "      <td>219720</td>\n",
              "      <td>0.936</td>\n",
              "      <td>1</td>\n",
              "      <td>65rPkyDC6FktCVkZIAtXaZ</td>\n",
              "      <td>0.00103</td>\n",
              "      <td>7</td>\n",
              "      <td>0.293</td>\n",
              "      <td>-4.136</td>\n",
              "      <td>1</td>\n",
              "      <td>nothing to lose</td>\n",
              "      <td>43</td>\n",
              "      <td>0.0678</td>\n",
              "      <td>103.443</td>\n",
              "      <td>0.656</td>\n",
              "      <td>1997</td>\n",
              "      <td>['g funk', 'gangster rap', 'hip hop', 'rap', 'west coast rap']</td>\n",
              "    </tr>\n",
              "  </tbody>\n",
              "</table>\n",
              "</div>"
            ],
            "text/plain": [
              "        acousticness artists  danceability  duration_ms  energy  explicit  \\\n",
              "120722         0.146    2pac         0.772       219720   0.936         1   \n",
              "\n",
              "                            id  instrumentalness  key  liveness  loudness  \\\n",
              "120722  65rPkyDC6FktCVkZIAtXaZ           0.00103    7     0.293    -4.136   \n",
              "\n",
              "        mode             name  popularity  speechiness    tempo  valence  \\\n",
              "120722     1  nothing to lose          43       0.0678  103.443    0.656   \n",
              "\n",
              "        year                                                          genres  \n",
              "120722  1997  ['g funk', 'gangster rap', 'hip hop', 'rap', 'west coast rap']  "
            ]
          },
          "metadata": {
            "tags": []
          },
          "execution_count": 29
        }
      ]
    },
    {
      "cell_type": "markdown",
      "metadata": {
        "id": "TTPMzvaL7Hun"
      },
      "source": [
        "## Baseline Model (Benchmark)"
      ]
    },
    {
      "cell_type": "code",
      "metadata": {
        "colab": {
          "base_uri": "https://localhost:8080/"
        },
        "id": "kwaoR3iZFgW7",
        "outputId": "0120aa6f-9c46-47db-8a95-c2c3403d50db"
      },
      "source": [
        "# Encode catagorical features\r\n",
        "encoder = ce.OrdinalEncoder(cols=['artists', 'name', 'genres', 'id'])\r\n",
        "encoder.fit(df)\r\n",
        "print('')"
      ],
      "execution_count": 30,
      "outputs": [
        {
          "output_type": "stream",
          "text": [
            "/usr/local/lib/python3.7/dist-packages/category_encoders/utils.py:21: FutureWarning: is_categorical is deprecated and will be removed in a future version.  Use is_categorical_dtype instead\n",
            "  elif pd.api.types.is_categorical(cols):\n"
          ],
          "name": "stderr"
        },
        {
          "output_type": "stream",
          "text": [
            "\n"
          ],
          "name": "stdout"
        }
      ]
    },
    {
      "cell_type": "code",
      "metadata": {
        "colab": {
          "base_uri": "https://localhost:8080/"
        },
        "id": "DLfAgLKCJKOu",
        "outputId": "9f82e670-f652-48b4-f331-c8e4f126a4e2"
      },
      "source": [
        "dg = encoder.transform(df)\r\n",
        "dg.dtypes"
      ],
      "execution_count": 31,
      "outputs": [
        {
          "output_type": "execute_result",
          "data": {
            "text/plain": [
              "acousticness        float64\n",
              "artists               int64\n",
              "danceability        float64\n",
              "duration_ms           int64\n",
              "energy              float64\n",
              "explicit              int64\n",
              "id                    int64\n",
              "instrumentalness    float64\n",
              "key                   int64\n",
              "liveness            float64\n",
              "loudness            float64\n",
              "mode                  int64\n",
              "name                  int64\n",
              "popularity            int64\n",
              "speechiness         float64\n",
              "tempo               float64\n",
              "valence             float64\n",
              "year                  int64\n",
              "genres                int64\n",
              "dtype: object"
            ]
          },
          "metadata": {
            "tags": []
          },
          "execution_count": 31
        }
      ]
    },
    {
      "cell_type": "code",
      "metadata": {
        "id": "lCGdsenYIHXF"
      },
      "source": [
        "# test input data\r\n",
        "test_data = {\r\n",
        "  \"artists\": 'johnny cash',\r\n",
        "  \"name\": \"I Walk the Line\"\r\n",
        "  # \"name\": \"i walk the line\"\r\n",
        "}\r\n",
        "test_data['artists'] = test_data['artists'].lower()\r\n",
        "test_data['name'] = test_data['name'].lower()"
      ],
      "execution_count": 49,
      "outputs": []
    },
    {
      "cell_type": "code",
      "metadata": {
        "colab": {
          "base_uri": "https://localhost:8080/",
          "height": 1000
        },
        "id": "0UlLC0zlTEcj",
        "outputId": "8766f57c-e1c1-4af3-f7cf-fe947a9b366d"
      },
      "source": [
        "test_row=df[df['artists'].str.match(test_data['artists']) & df['name'].str.match(test_data['name'])]\r\n",
        "test_row"
      ],
      "execution_count": 50,
      "outputs": [
        {
          "output_type": "execute_result",
          "data": {
            "text/html": [
              "<div>\n",
              "<style scoped>\n",
              "    .dataframe tbody tr th:only-of-type {\n",
              "        vertical-align: middle;\n",
              "    }\n",
              "\n",
              "    .dataframe tbody tr th {\n",
              "        vertical-align: top;\n",
              "    }\n",
              "\n",
              "    .dataframe thead th {\n",
              "        text-align: right;\n",
              "    }\n",
              "</style>\n",
              "<table border=\"1\" class=\"dataframe\">\n",
              "  <thead>\n",
              "    <tr style=\"text-align: right;\">\n",
              "      <th></th>\n",
              "      <th>acousticness</th>\n",
              "      <th>artists</th>\n",
              "      <th>danceability</th>\n",
              "      <th>duration_ms</th>\n",
              "      <th>energy</th>\n",
              "      <th>explicit</th>\n",
              "      <th>id</th>\n",
              "      <th>instrumentalness</th>\n",
              "      <th>key</th>\n",
              "      <th>liveness</th>\n",
              "      <th>loudness</th>\n",
              "      <th>mode</th>\n",
              "      <th>name</th>\n",
              "      <th>popularity</th>\n",
              "      <th>speechiness</th>\n",
              "      <th>tempo</th>\n",
              "      <th>valence</th>\n",
              "      <th>year</th>\n",
              "      <th>genres</th>\n",
              "    </tr>\n",
              "  </thead>\n",
              "  <tbody>\n",
              "    <tr>\n",
              "      <th>7314</th>\n",
              "      <td>0.798</td>\n",
              "      <td>johnny cash</td>\n",
              "      <td>0.862</td>\n",
              "      <td>163046</td>\n",
              "      <td>0.484</td>\n",
              "      <td>0</td>\n",
              "      <td>1Vr6JSWTpl5MIxUHOJ3nny</td>\n",
              "      <td>0.000996</td>\n",
              "      <td>10</td>\n",
              "      <td>0.1050</td>\n",
              "      <td>-11.183</td>\n",
              "      <td>1</td>\n",
              "      <td>i walk the line</td>\n",
              "      <td>48</td>\n",
              "      <td>0.0421</td>\n",
              "      <td>105.834</td>\n",
              "      <td>0.787</td>\n",
              "      <td>1957</td>\n",
              "      <td>['arkansas country', 'outlaw country']</td>\n",
              "    </tr>\n",
              "    <tr>\n",
              "      <th>8683</th>\n",
              "      <td>0.970</td>\n",
              "      <td>johnny cash</td>\n",
              "      <td>0.596</td>\n",
              "      <td>154173</td>\n",
              "      <td>0.194</td>\n",
              "      <td>0</td>\n",
              "      <td>3X9tJw6z5LowFx339fhTvu</td>\n",
              "      <td>0.162000</td>\n",
              "      <td>10</td>\n",
              "      <td>0.0990</td>\n",
              "      <td>-20.389</td>\n",
              "      <td>1</td>\n",
              "      <td>i walk the line - stereo version</td>\n",
              "      <td>63</td>\n",
              "      <td>0.0347</td>\n",
              "      <td>114.974</td>\n",
              "      <td>0.746</td>\n",
              "      <td>1964</td>\n",
              "      <td>['arkansas country', 'outlaw country']</td>\n",
              "    </tr>\n",
              "    <tr>\n",
              "      <th>9885</th>\n",
              "      <td>0.877</td>\n",
              "      <td>johnny cash</td>\n",
              "      <td>0.713</td>\n",
              "      <td>176533</td>\n",
              "      <td>0.258</td>\n",
              "      <td>0</td>\n",
              "      <td>7hxZF4jETnE5Q75rKQnMjE</td>\n",
              "      <td>0.006060</td>\n",
              "      <td>9</td>\n",
              "      <td>0.0967</td>\n",
              "      <td>-14.590</td>\n",
              "      <td>1</td>\n",
              "      <td>i walk the line</td>\n",
              "      <td>67</td>\n",
              "      <td>0.0384</td>\n",
              "      <td>98.805</td>\n",
              "      <td>0.560</td>\n",
              "      <td>1970</td>\n",
              "      <td>['arkansas country', 'outlaw country']</td>\n",
              "    </tr>\n",
              "    <tr>\n",
              "      <th>26709</th>\n",
              "      <td>0.798</td>\n",
              "      <td>johnny cash</td>\n",
              "      <td>0.862</td>\n",
              "      <td>163046</td>\n",
              "      <td>0.484</td>\n",
              "      <td>0</td>\n",
              "      <td>5WwSSnn7t4Ktu5eOHzI39D</td>\n",
              "      <td>0.000996</td>\n",
              "      <td>10</td>\n",
              "      <td>0.1050</td>\n",
              "      <td>-11.183</td>\n",
              "      <td>1</td>\n",
              "      <td>i walk the line</td>\n",
              "      <td>26</td>\n",
              "      <td>0.0421</td>\n",
              "      <td>105.834</td>\n",
              "      <td>0.787</td>\n",
              "      <td>1958</td>\n",
              "      <td>['arkansas country', 'outlaw country']</td>\n",
              "    </tr>\n",
              "    <tr>\n",
              "      <th>27738</th>\n",
              "      <td>0.872</td>\n",
              "      <td>johnny cash</td>\n",
              "      <td>0.611</td>\n",
              "      <td>154547</td>\n",
              "      <td>0.381</td>\n",
              "      <td>0</td>\n",
              "      <td>0SHqu1Nlm2Cu6eNbmxHvRA</td>\n",
              "      <td>0.698000</td>\n",
              "      <td>10</td>\n",
              "      <td>0.1020</td>\n",
              "      <td>-15.462</td>\n",
              "      <td>1</td>\n",
              "      <td>i walk the line</td>\n",
              "      <td>41</td>\n",
              "      <td>0.0347</td>\n",
              "      <td>115.148</td>\n",
              "      <td>0.706</td>\n",
              "      <td>1964</td>\n",
              "      <td>['arkansas country', 'outlaw country']</td>\n",
              "    </tr>\n",
              "    <tr>\n",
              "      <th>63159</th>\n",
              "      <td>0.798</td>\n",
              "      <td>johnny cash</td>\n",
              "      <td>0.862</td>\n",
              "      <td>163046</td>\n",
              "      <td>0.484</td>\n",
              "      <td>0</td>\n",
              "      <td>4w9zNH0jhhHOc08YLAN9oe</td>\n",
              "      <td>0.000996</td>\n",
              "      <td>10</td>\n",
              "      <td>0.1050</td>\n",
              "      <td>-11.183</td>\n",
              "      <td>1</td>\n",
              "      <td>i walk the line</td>\n",
              "      <td>15</td>\n",
              "      <td>0.0421</td>\n",
              "      <td>105.834</td>\n",
              "      <td>0.787</td>\n",
              "      <td>1956</td>\n",
              "      <td>['arkansas country', 'outlaw country']</td>\n",
              "    </tr>\n",
              "    <tr>\n",
              "      <th>63372</th>\n",
              "      <td>0.646</td>\n",
              "      <td>johnny cash</td>\n",
              "      <td>0.862</td>\n",
              "      <td>162112</td>\n",
              "      <td>0.413</td>\n",
              "      <td>0</td>\n",
              "      <td>4AItZ329ewZOhqmxrSPzDd</td>\n",
              "      <td>0.001510</td>\n",
              "      <td>10</td>\n",
              "      <td>0.1020</td>\n",
              "      <td>-14.829</td>\n",
              "      <td>1</td>\n",
              "      <td>i walk the line (2017 remaster)</td>\n",
              "      <td>18</td>\n",
              "      <td>0.0474</td>\n",
              "      <td>105.859</td>\n",
              "      <td>0.792</td>\n",
              "      <td>1957</td>\n",
              "      <td>['arkansas country', 'outlaw country']</td>\n",
              "    </tr>\n",
              "    <tr>\n",
              "      <th>63545</th>\n",
              "      <td>0.615</td>\n",
              "      <td>johnny cash</td>\n",
              "      <td>0.855</td>\n",
              "      <td>162629</td>\n",
              "      <td>0.417</td>\n",
              "      <td>0</td>\n",
              "      <td>1QOW1JEWkbYEOyBlq81P2j</td>\n",
              "      <td>0.001330</td>\n",
              "      <td>10</td>\n",
              "      <td>0.1010</td>\n",
              "      <td>-14.995</td>\n",
              "      <td>1</td>\n",
              "      <td>i walk the line (2017 remaster)</td>\n",
              "      <td>17</td>\n",
              "      <td>0.0471</td>\n",
              "      <td>105.842</td>\n",
              "      <td>0.792</td>\n",
              "      <td>1958</td>\n",
              "      <td>['arkansas country', 'outlaw country']</td>\n",
              "    </tr>\n",
              "    <tr>\n",
              "      <th>99244</th>\n",
              "      <td>0.510</td>\n",
              "      <td>johnny cash</td>\n",
              "      <td>0.553</td>\n",
              "      <td>134573</td>\n",
              "      <td>0.661</td>\n",
              "      <td>0</td>\n",
              "      <td>2bItf9pag16H6HtjLOqzSS</td>\n",
              "      <td>0.000007</td>\n",
              "      <td>10</td>\n",
              "      <td>0.8860</td>\n",
              "      <td>-10.432</td>\n",
              "      <td>1</td>\n",
              "      <td>i walk the line - live at san quentin state prison, san quentin, ca - february 1969</td>\n",
              "      <td>29</td>\n",
              "      <td>0.0380</td>\n",
              "      <td>120.813</td>\n",
              "      <td>0.772</td>\n",
              "      <td>1969</td>\n",
              "      <td>['arkansas country', 'outlaw country']</td>\n",
              "    </tr>\n",
              "    <tr>\n",
              "      <th>112791</th>\n",
              "      <td>0.543</td>\n",
              "      <td>johnny cash</td>\n",
              "      <td>0.820</td>\n",
              "      <td>158169</td>\n",
              "      <td>0.365</td>\n",
              "      <td>0</td>\n",
              "      <td>0SoX8PxWYqL4zpuzuai35A</td>\n",
              "      <td>0.000102</td>\n",
              "      <td>10</td>\n",
              "      <td>0.1020</td>\n",
              "      <td>-14.536</td>\n",
              "      <td>0</td>\n",
              "      <td>i walk the line (alternate version, take 1) (2017 remaster)</td>\n",
              "      <td>12</td>\n",
              "      <td>0.0442</td>\n",
              "      <td>102.355</td>\n",
              "      <td>0.779</td>\n",
              "      <td>1957</td>\n",
              "      <td>['arkansas country', 'outlaw country']</td>\n",
              "    </tr>\n",
              "    <tr>\n",
              "      <th>113512</th>\n",
              "      <td>0.798</td>\n",
              "      <td>johnny cash</td>\n",
              "      <td>0.862</td>\n",
              "      <td>163046</td>\n",
              "      <td>0.484</td>\n",
              "      <td>0</td>\n",
              "      <td>1haa24pizZtLi3Kjd0EySS</td>\n",
              "      <td>0.000996</td>\n",
              "      <td>10</td>\n",
              "      <td>0.1050</td>\n",
              "      <td>-11.183</td>\n",
              "      <td>1</td>\n",
              "      <td>i walk the line</td>\n",
              "      <td>13</td>\n",
              "      <td>0.0421</td>\n",
              "      <td>105.834</td>\n",
              "      <td>0.787</td>\n",
              "      <td>1960</td>\n",
              "      <td>['arkansas country', 'outlaw country']</td>\n",
              "    </tr>\n",
              "    <tr>\n",
              "      <th>131351</th>\n",
              "      <td>0.684</td>\n",
              "      <td>johnny cash</td>\n",
              "      <td>0.590</td>\n",
              "      <td>147707</td>\n",
              "      <td>0.586</td>\n",
              "      <td>0</td>\n",
              "      <td>6tBcnzAflB45mh5dIFLsgj</td>\n",
              "      <td>0.000002</td>\n",
              "      <td>10</td>\n",
              "      <td>0.9530</td>\n",
              "      <td>-9.583</td>\n",
              "      <td>1</td>\n",
              "      <td>i walk the line - live at san quentin state prison, san quentin, ca - february 1969</td>\n",
              "      <td>26</td>\n",
              "      <td>0.0592</td>\n",
              "      <td>121.712</td>\n",
              "      <td>0.859</td>\n",
              "      <td>1969</td>\n",
              "      <td>['arkansas country', 'outlaw country']</td>\n",
              "    </tr>\n",
              "  </tbody>\n",
              "</table>\n",
              "</div>"
            ],
            "text/plain": [
              "        acousticness      artists  danceability  duration_ms  energy  \\\n",
              "7314           0.798  johnny cash         0.862       163046   0.484   \n",
              "8683           0.970  johnny cash         0.596       154173   0.194   \n",
              "9885           0.877  johnny cash         0.713       176533   0.258   \n",
              "26709          0.798  johnny cash         0.862       163046   0.484   \n",
              "27738          0.872  johnny cash         0.611       154547   0.381   \n",
              "63159          0.798  johnny cash         0.862       163046   0.484   \n",
              "63372          0.646  johnny cash         0.862       162112   0.413   \n",
              "63545          0.615  johnny cash         0.855       162629   0.417   \n",
              "99244          0.510  johnny cash         0.553       134573   0.661   \n",
              "112791         0.543  johnny cash         0.820       158169   0.365   \n",
              "113512         0.798  johnny cash         0.862       163046   0.484   \n",
              "131351         0.684  johnny cash         0.590       147707   0.586   \n",
              "\n",
              "        explicit                      id  instrumentalness  key  liveness  \\\n",
              "7314           0  1Vr6JSWTpl5MIxUHOJ3nny          0.000996   10    0.1050   \n",
              "8683           0  3X9tJw6z5LowFx339fhTvu          0.162000   10    0.0990   \n",
              "9885           0  7hxZF4jETnE5Q75rKQnMjE          0.006060    9    0.0967   \n",
              "26709          0  5WwSSnn7t4Ktu5eOHzI39D          0.000996   10    0.1050   \n",
              "27738          0  0SHqu1Nlm2Cu6eNbmxHvRA          0.698000   10    0.1020   \n",
              "63159          0  4w9zNH0jhhHOc08YLAN9oe          0.000996   10    0.1050   \n",
              "63372          0  4AItZ329ewZOhqmxrSPzDd          0.001510   10    0.1020   \n",
              "63545          0  1QOW1JEWkbYEOyBlq81P2j          0.001330   10    0.1010   \n",
              "99244          0  2bItf9pag16H6HtjLOqzSS          0.000007   10    0.8860   \n",
              "112791         0  0SoX8PxWYqL4zpuzuai35A          0.000102   10    0.1020   \n",
              "113512         0  1haa24pizZtLi3Kjd0EySS          0.000996   10    0.1050   \n",
              "131351         0  6tBcnzAflB45mh5dIFLsgj          0.000002   10    0.9530   \n",
              "\n",
              "        loudness  mode  \\\n",
              "7314     -11.183     1   \n",
              "8683     -20.389     1   \n",
              "9885     -14.590     1   \n",
              "26709    -11.183     1   \n",
              "27738    -15.462     1   \n",
              "63159    -11.183     1   \n",
              "63372    -14.829     1   \n",
              "63545    -14.995     1   \n",
              "99244    -10.432     1   \n",
              "112791   -14.536     0   \n",
              "113512   -11.183     1   \n",
              "131351    -9.583     1   \n",
              "\n",
              "                                                                                       name  \\\n",
              "7314                                                                        i walk the line   \n",
              "8683                                                       i walk the line - stereo version   \n",
              "9885                                                                        i walk the line   \n",
              "26709                                                                       i walk the line   \n",
              "27738                                                                       i walk the line   \n",
              "63159                                                                       i walk the line   \n",
              "63372                                                       i walk the line (2017 remaster)   \n",
              "63545                                                       i walk the line (2017 remaster)   \n",
              "99244   i walk the line - live at san quentin state prison, san quentin, ca - february 1969   \n",
              "112791                          i walk the line (alternate version, take 1) (2017 remaster)   \n",
              "113512                                                                      i walk the line   \n",
              "131351  i walk the line - live at san quentin state prison, san quentin, ca - february 1969   \n",
              "\n",
              "        popularity  speechiness    tempo  valence  year  \\\n",
              "7314            48       0.0421  105.834    0.787  1957   \n",
              "8683            63       0.0347  114.974    0.746  1964   \n",
              "9885            67       0.0384   98.805    0.560  1970   \n",
              "26709           26       0.0421  105.834    0.787  1958   \n",
              "27738           41       0.0347  115.148    0.706  1964   \n",
              "63159           15       0.0421  105.834    0.787  1956   \n",
              "63372           18       0.0474  105.859    0.792  1957   \n",
              "63545           17       0.0471  105.842    0.792  1958   \n",
              "99244           29       0.0380  120.813    0.772  1969   \n",
              "112791          12       0.0442  102.355    0.779  1957   \n",
              "113512          13       0.0421  105.834    0.787  1960   \n",
              "131351          26       0.0592  121.712    0.859  1969   \n",
              "\n",
              "                                        genres  \n",
              "7314    ['arkansas country', 'outlaw country']  \n",
              "8683    ['arkansas country', 'outlaw country']  \n",
              "9885    ['arkansas country', 'outlaw country']  \n",
              "26709   ['arkansas country', 'outlaw country']  \n",
              "27738   ['arkansas country', 'outlaw country']  \n",
              "63159   ['arkansas country', 'outlaw country']  \n",
              "63372   ['arkansas country', 'outlaw country']  \n",
              "63545   ['arkansas country', 'outlaw country']  \n",
              "99244   ['arkansas country', 'outlaw country']  \n",
              "112791  ['arkansas country', 'outlaw country']  \n",
              "113512  ['arkansas country', 'outlaw country']  \n",
              "131351  ['arkansas country', 'outlaw country']  "
            ]
          },
          "metadata": {
            "tags": []
          },
          "execution_count": 50
        }
      ]
    },
    {
      "cell_type": "code",
      "metadata": {
        "colab": {
          "base_uri": "https://localhost:8080/",
          "height": 437
        },
        "id": "kw8ZT_CnM-Ij",
        "outputId": "6cab9388-3df5-46c6-daae-0ab166abdf35"
      },
      "source": [
        "test_e = encoder.transform(test_row)\r\n",
        "test_e"
      ],
      "execution_count": 51,
      "outputs": [
        {
          "output_type": "execute_result",
          "data": {
            "text/html": [
              "<div>\n",
              "<style scoped>\n",
              "    .dataframe tbody tr th:only-of-type {\n",
              "        vertical-align: middle;\n",
              "    }\n",
              "\n",
              "    .dataframe tbody tr th {\n",
              "        vertical-align: top;\n",
              "    }\n",
              "\n",
              "    .dataframe thead th {\n",
              "        text-align: right;\n",
              "    }\n",
              "</style>\n",
              "<table border=\"1\" class=\"dataframe\">\n",
              "  <thead>\n",
              "    <tr style=\"text-align: right;\">\n",
              "      <th></th>\n",
              "      <th>acousticness</th>\n",
              "      <th>artists</th>\n",
              "      <th>danceability</th>\n",
              "      <th>duration_ms</th>\n",
              "      <th>energy</th>\n",
              "      <th>explicit</th>\n",
              "      <th>id</th>\n",
              "      <th>instrumentalness</th>\n",
              "      <th>key</th>\n",
              "      <th>liveness</th>\n",
              "      <th>loudness</th>\n",
              "      <th>mode</th>\n",
              "      <th>name</th>\n",
              "      <th>popularity</th>\n",
              "      <th>speechiness</th>\n",
              "      <th>tempo</th>\n",
              "      <th>valence</th>\n",
              "      <th>year</th>\n",
              "      <th>genres</th>\n",
              "    </tr>\n",
              "  </thead>\n",
              "  <tbody>\n",
              "    <tr>\n",
              "      <th>7314</th>\n",
              "      <td>0.798</td>\n",
              "      <td>591</td>\n",
              "      <td>0.862</td>\n",
              "      <td>163046</td>\n",
              "      <td>0.484</td>\n",
              "      <td>0</td>\n",
              "      <td>7315</td>\n",
              "      <td>0.000996</td>\n",
              "      <td>10</td>\n",
              "      <td>0.1050</td>\n",
              "      <td>-11.183</td>\n",
              "      <td>1</td>\n",
              "      <td>6350</td>\n",
              "      <td>48</td>\n",
              "      <td>0.0421</td>\n",
              "      <td>105.834</td>\n",
              "      <td>0.787</td>\n",
              "      <td>1957</td>\n",
              "      <td>209</td>\n",
              "    </tr>\n",
              "    <tr>\n",
              "      <th>8683</th>\n",
              "      <td>0.970</td>\n",
              "      <td>591</td>\n",
              "      <td>0.596</td>\n",
              "      <td>154173</td>\n",
              "      <td>0.194</td>\n",
              "      <td>0</td>\n",
              "      <td>8684</td>\n",
              "      <td>0.162000</td>\n",
              "      <td>10</td>\n",
              "      <td>0.0990</td>\n",
              "      <td>-20.389</td>\n",
              "      <td>1</td>\n",
              "      <td>7409</td>\n",
              "      <td>63</td>\n",
              "      <td>0.0347</td>\n",
              "      <td>114.974</td>\n",
              "      <td>0.746</td>\n",
              "      <td>1964</td>\n",
              "      <td>209</td>\n",
              "    </tr>\n",
              "    <tr>\n",
              "      <th>9885</th>\n",
              "      <td>0.877</td>\n",
              "      <td>591</td>\n",
              "      <td>0.713</td>\n",
              "      <td>176533</td>\n",
              "      <td>0.258</td>\n",
              "      <td>0</td>\n",
              "      <td>9886</td>\n",
              "      <td>0.006060</td>\n",
              "      <td>9</td>\n",
              "      <td>0.0967</td>\n",
              "      <td>-14.590</td>\n",
              "      <td>1</td>\n",
              "      <td>6350</td>\n",
              "      <td>67</td>\n",
              "      <td>0.0384</td>\n",
              "      <td>98.805</td>\n",
              "      <td>0.560</td>\n",
              "      <td>1970</td>\n",
              "      <td>209</td>\n",
              "    </tr>\n",
              "    <tr>\n",
              "      <th>26709</th>\n",
              "      <td>0.798</td>\n",
              "      <td>591</td>\n",
              "      <td>0.862</td>\n",
              "      <td>163046</td>\n",
              "      <td>0.484</td>\n",
              "      <td>0</td>\n",
              "      <td>26710</td>\n",
              "      <td>0.000996</td>\n",
              "      <td>10</td>\n",
              "      <td>0.1050</td>\n",
              "      <td>-11.183</td>\n",
              "      <td>1</td>\n",
              "      <td>6350</td>\n",
              "      <td>26</td>\n",
              "      <td>0.0421</td>\n",
              "      <td>105.834</td>\n",
              "      <td>0.787</td>\n",
              "      <td>1958</td>\n",
              "      <td>209</td>\n",
              "    </tr>\n",
              "    <tr>\n",
              "      <th>27738</th>\n",
              "      <td>0.872</td>\n",
              "      <td>591</td>\n",
              "      <td>0.611</td>\n",
              "      <td>154547</td>\n",
              "      <td>0.381</td>\n",
              "      <td>0</td>\n",
              "      <td>27739</td>\n",
              "      <td>0.698000</td>\n",
              "      <td>10</td>\n",
              "      <td>0.1020</td>\n",
              "      <td>-15.462</td>\n",
              "      <td>1</td>\n",
              "      <td>6350</td>\n",
              "      <td>41</td>\n",
              "      <td>0.0347</td>\n",
              "      <td>115.148</td>\n",
              "      <td>0.706</td>\n",
              "      <td>1964</td>\n",
              "      <td>209</td>\n",
              "    </tr>\n",
              "    <tr>\n",
              "      <th>63159</th>\n",
              "      <td>0.798</td>\n",
              "      <td>591</td>\n",
              "      <td>0.862</td>\n",
              "      <td>163046</td>\n",
              "      <td>0.484</td>\n",
              "      <td>0</td>\n",
              "      <td>63160</td>\n",
              "      <td>0.000996</td>\n",
              "      <td>10</td>\n",
              "      <td>0.1050</td>\n",
              "      <td>-11.183</td>\n",
              "      <td>1</td>\n",
              "      <td>6350</td>\n",
              "      <td>15</td>\n",
              "      <td>0.0421</td>\n",
              "      <td>105.834</td>\n",
              "      <td>0.787</td>\n",
              "      <td>1956</td>\n",
              "      <td>209</td>\n",
              "    </tr>\n",
              "    <tr>\n",
              "      <th>63372</th>\n",
              "      <td>0.646</td>\n",
              "      <td>591</td>\n",
              "      <td>0.862</td>\n",
              "      <td>162112</td>\n",
              "      <td>0.413</td>\n",
              "      <td>0</td>\n",
              "      <td>63373</td>\n",
              "      <td>0.001510</td>\n",
              "      <td>10</td>\n",
              "      <td>0.1020</td>\n",
              "      <td>-14.829</td>\n",
              "      <td>1</td>\n",
              "      <td>53613</td>\n",
              "      <td>18</td>\n",
              "      <td>0.0474</td>\n",
              "      <td>105.859</td>\n",
              "      <td>0.792</td>\n",
              "      <td>1957</td>\n",
              "      <td>209</td>\n",
              "    </tr>\n",
              "    <tr>\n",
              "      <th>63545</th>\n",
              "      <td>0.615</td>\n",
              "      <td>591</td>\n",
              "      <td>0.855</td>\n",
              "      <td>162629</td>\n",
              "      <td>0.417</td>\n",
              "      <td>0</td>\n",
              "      <td>63546</td>\n",
              "      <td>0.001330</td>\n",
              "      <td>10</td>\n",
              "      <td>0.1010</td>\n",
              "      <td>-14.995</td>\n",
              "      <td>1</td>\n",
              "      <td>53613</td>\n",
              "      <td>17</td>\n",
              "      <td>0.0471</td>\n",
              "      <td>105.842</td>\n",
              "      <td>0.792</td>\n",
              "      <td>1958</td>\n",
              "      <td>209</td>\n",
              "    </tr>\n",
              "    <tr>\n",
              "      <th>99244</th>\n",
              "      <td>0.510</td>\n",
              "      <td>591</td>\n",
              "      <td>0.553</td>\n",
              "      <td>134573</td>\n",
              "      <td>0.661</td>\n",
              "      <td>0</td>\n",
              "      <td>99245</td>\n",
              "      <td>0.000007</td>\n",
              "      <td>10</td>\n",
              "      <td>0.8860</td>\n",
              "      <td>-10.432</td>\n",
              "      <td>1</td>\n",
              "      <td>81061</td>\n",
              "      <td>29</td>\n",
              "      <td>0.0380</td>\n",
              "      <td>120.813</td>\n",
              "      <td>0.772</td>\n",
              "      <td>1969</td>\n",
              "      <td>209</td>\n",
              "    </tr>\n",
              "    <tr>\n",
              "      <th>112791</th>\n",
              "      <td>0.543</td>\n",
              "      <td>591</td>\n",
              "      <td>0.820</td>\n",
              "      <td>158169</td>\n",
              "      <td>0.365</td>\n",
              "      <td>0</td>\n",
              "      <td>112792</td>\n",
              "      <td>0.000102</td>\n",
              "      <td>10</td>\n",
              "      <td>0.1020</td>\n",
              "      <td>-14.536</td>\n",
              "      <td>0</td>\n",
              "      <td>91436</td>\n",
              "      <td>12</td>\n",
              "      <td>0.0442</td>\n",
              "      <td>102.355</td>\n",
              "      <td>0.779</td>\n",
              "      <td>1957</td>\n",
              "      <td>209</td>\n",
              "    </tr>\n",
              "    <tr>\n",
              "      <th>113512</th>\n",
              "      <td>0.798</td>\n",
              "      <td>591</td>\n",
              "      <td>0.862</td>\n",
              "      <td>163046</td>\n",
              "      <td>0.484</td>\n",
              "      <td>0</td>\n",
              "      <td>113513</td>\n",
              "      <td>0.000996</td>\n",
              "      <td>10</td>\n",
              "      <td>0.1050</td>\n",
              "      <td>-11.183</td>\n",
              "      <td>1</td>\n",
              "      <td>6350</td>\n",
              "      <td>13</td>\n",
              "      <td>0.0421</td>\n",
              "      <td>105.834</td>\n",
              "      <td>0.787</td>\n",
              "      <td>1960</td>\n",
              "      <td>209</td>\n",
              "    </tr>\n",
              "    <tr>\n",
              "      <th>131351</th>\n",
              "      <td>0.684</td>\n",
              "      <td>591</td>\n",
              "      <td>0.590</td>\n",
              "      <td>147707</td>\n",
              "      <td>0.586</td>\n",
              "      <td>0</td>\n",
              "      <td>131352</td>\n",
              "      <td>0.000002</td>\n",
              "      <td>10</td>\n",
              "      <td>0.9530</td>\n",
              "      <td>-9.583</td>\n",
              "      <td>1</td>\n",
              "      <td>81061</td>\n",
              "      <td>26</td>\n",
              "      <td>0.0592</td>\n",
              "      <td>121.712</td>\n",
              "      <td>0.859</td>\n",
              "      <td>1969</td>\n",
              "      <td>209</td>\n",
              "    </tr>\n",
              "  </tbody>\n",
              "</table>\n",
              "</div>"
            ],
            "text/plain": [
              "        acousticness  artists  danceability  duration_ms  energy  explicit  \\\n",
              "7314           0.798      591         0.862       163046   0.484         0   \n",
              "8683           0.970      591         0.596       154173   0.194         0   \n",
              "9885           0.877      591         0.713       176533   0.258         0   \n",
              "26709          0.798      591         0.862       163046   0.484         0   \n",
              "27738          0.872      591         0.611       154547   0.381         0   \n",
              "63159          0.798      591         0.862       163046   0.484         0   \n",
              "63372          0.646      591         0.862       162112   0.413         0   \n",
              "63545          0.615      591         0.855       162629   0.417         0   \n",
              "99244          0.510      591         0.553       134573   0.661         0   \n",
              "112791         0.543      591         0.820       158169   0.365         0   \n",
              "113512         0.798      591         0.862       163046   0.484         0   \n",
              "131351         0.684      591         0.590       147707   0.586         0   \n",
              "\n",
              "            id  instrumentalness  key  liveness  loudness  mode   name  \\\n",
              "7314      7315          0.000996   10    0.1050   -11.183     1   6350   \n",
              "8683      8684          0.162000   10    0.0990   -20.389     1   7409   \n",
              "9885      9886          0.006060    9    0.0967   -14.590     1   6350   \n",
              "26709    26710          0.000996   10    0.1050   -11.183     1   6350   \n",
              "27738    27739          0.698000   10    0.1020   -15.462     1   6350   \n",
              "63159    63160          0.000996   10    0.1050   -11.183     1   6350   \n",
              "63372    63373          0.001510   10    0.1020   -14.829     1  53613   \n",
              "63545    63546          0.001330   10    0.1010   -14.995     1  53613   \n",
              "99244    99245          0.000007   10    0.8860   -10.432     1  81061   \n",
              "112791  112792          0.000102   10    0.1020   -14.536     0  91436   \n",
              "113512  113513          0.000996   10    0.1050   -11.183     1   6350   \n",
              "131351  131352          0.000002   10    0.9530    -9.583     1  81061   \n",
              "\n",
              "        popularity  speechiness    tempo  valence  year  genres  \n",
              "7314            48       0.0421  105.834    0.787  1957     209  \n",
              "8683            63       0.0347  114.974    0.746  1964     209  \n",
              "9885            67       0.0384   98.805    0.560  1970     209  \n",
              "26709           26       0.0421  105.834    0.787  1958     209  \n",
              "27738           41       0.0347  115.148    0.706  1964     209  \n",
              "63159           15       0.0421  105.834    0.787  1956     209  \n",
              "63372           18       0.0474  105.859    0.792  1957     209  \n",
              "63545           17       0.0471  105.842    0.792  1958     209  \n",
              "99244           29       0.0380  120.813    0.772  1969     209  \n",
              "112791          12       0.0442  102.355    0.779  1957     209  \n",
              "113512          13       0.0421  105.834    0.787  1960     209  \n",
              "131351          26       0.0592  121.712    0.859  1969     209  "
            ]
          },
          "metadata": {
            "tags": []
          },
          "execution_count": 51
        }
      ]
    },
    {
      "cell_type": "code",
      "metadata": {
        "id": "-ALynzfq7Hun",
        "colab": {
          "base_uri": "https://localhost:8080/"
        },
        "outputId": "595a81ce-2d85-49f4-8258-9d3a70e58735"
      },
      "source": [
        "# Simple baseline model\r\n",
        "knn = NearestNeighbors(n_neighbors=6)\r\n",
        "knn.fit(dg)"
      ],
      "execution_count": 52,
      "outputs": [
        {
          "output_type": "execute_result",
          "data": {
            "text/plain": [
              "NearestNeighbors(algorithm='auto', leaf_size=30, metric='minkowski',\n",
              "                 metric_params=None, n_jobs=None, n_neighbors=6, p=2,\n",
              "                 radius=1.0)"
            ]
          },
          "metadata": {
            "tags": []
          },
          "execution_count": 52
        }
      ]
    },
    {
      "cell_type": "code",
      "metadata": {
        "colab": {
          "base_uri": "https://localhost:8080/"
        },
        "id": "quFREkyHLn8r",
        "outputId": "6d1260b3-27ed-4b17-cc30-709f3addaace"
      },
      "source": [
        "results = knn.kneighbors(test_e)\r\n",
        "results"
      ],
      "execution_count": 53,
      "outputs": [
        {
          "output_type": "execute_result",
          "data": {
            "text/plain": [
              "(array([[   0.        ,  462.68739038,  467.43894614,  548.20663532,\n",
              "          669.3421918 ,  710.6548821 ],\n",
              "        [   0.        ,  858.69237713,  881.26876405,  888.50045337,\n",
              "          991.38623158, 1009.04487256],\n",
              "        [   0.        , 1461.13796917, 1745.7654159 , 1748.6873901 ,\n",
              "         1856.23157158, 1882.86933181],\n",
              "        [   0.        , 1088.49235634, 1224.0396489 , 1345.82303687,\n",
              "         1355.02939839, 1511.05107103],\n",
              "        [   0.        , 1034.13932999, 1318.77930036, 1955.96629328,\n",
              "         2194.61604491, 2198.38282232],\n",
              "        [   0.        ,  505.4382458 ,  831.84121352, 1308.0361335 ,\n",
              "         1650.26163046, 2090.25345275],\n",
              "        [   0.        ,  500.0662572 ,  545.17889621,  561.42006091,\n",
              "          629.69499447,  795.45178155],\n",
              "        [   0.        ,  493.50524315,  545.17889621,  646.40199836,\n",
              "          809.14995039,  865.77842567],\n",
              "        [   0.        ,  761.06342386,  823.7675503 ,  850.96815889,\n",
              "         1095.53984385, 1130.49463289],\n",
              "        [   0.        ,  140.65509828,  762.34481399, 1121.11508683,\n",
              "         1188.47597913, 1227.44093354],\n",
              "        [   0.        , 1011.44349862, 1591.37436429, 1817.30434895,\n",
              "         2014.64570044, 2162.59837623],\n",
              "        [   0.        , 2121.00706473, 2927.11636451, 3058.39640695,\n",
              "         3752.38030449, 4948.27112008]]),\n",
              " array([[  7314,   7221,   7259,   7074,   6932,   6797],\n",
              "        [  8683,   8584,   8312,   8329,   8681,   8532],\n",
              "        [  9885,   8953,   8415,   9089,   8217,   9056],\n",
              "        [ 26709,  26277,  26994,  27405,  26388,  27688],\n",
              "        [ 27738,  26880,  28024,  25872,  27805,  28237],\n",
              "        [ 63159,  63259,  62696,  63582,  62887,  64857],\n",
              "        [ 63372,  63522,  63545,  63200,  63415,  63470],\n",
              "        [ 63545,  63415,  63372,  63522,  63489,  63052],\n",
              "        [ 99244,  99101,  98950,  98750,  99065,  99762],\n",
              "        [112791, 112783, 112922, 112577, 113491, 112998],\n",
              "        [113512, 112752, 114083, 114623, 114204, 114607],\n",
              "        [131351, 130640, 129003, 129874, 131316, 129322]]))"
            ]
          },
          "metadata": {
            "tags": []
          },
          "execution_count": 53
        }
      ]
    },
    {
      "cell_type": "code",
      "metadata": {
        "colab": {
          "base_uri": "https://localhost:8080/"
        },
        "id": "1il-AmNGOEEe",
        "outputId": "826e5a89-af30-4ff4-cd91-2ed7aa96f236"
      },
      "source": [
        "j = [results[1][0]]\r\n",
        "j"
      ],
      "execution_count": 54,
      "outputs": [
        {
          "output_type": "execute_result",
          "data": {
            "text/plain": [
              "[array([7314, 7221, 7259, 7074, 6932, 6797])]"
            ]
          },
          "metadata": {
            "tags": []
          },
          "execution_count": 54
        }
      ]
    },
    {
      "cell_type": "code",
      "metadata": {
        "colab": {
          "base_uri": "https://localhost:8080/",
          "height": 807
        },
        "id": "j0_CVLqWSRvZ",
        "outputId": "df652cad-cb73-45e9-a2cf-5ae64ce95c22"
      },
      "source": [
        "df.iloc[j[0]]"
      ],
      "execution_count": 55,
      "outputs": [
        {
          "output_type": "execute_result",
          "data": {
            "text/html": [
              "<div>\n",
              "<style scoped>\n",
              "    .dataframe tbody tr th:only-of-type {\n",
              "        vertical-align: middle;\n",
              "    }\n",
              "\n",
              "    .dataframe tbody tr th {\n",
              "        vertical-align: top;\n",
              "    }\n",
              "\n",
              "    .dataframe thead th {\n",
              "        text-align: right;\n",
              "    }\n",
              "</style>\n",
              "<table border=\"1\" class=\"dataframe\">\n",
              "  <thead>\n",
              "    <tr style=\"text-align: right;\">\n",
              "      <th></th>\n",
              "      <th>acousticness</th>\n",
              "      <th>artists</th>\n",
              "      <th>danceability</th>\n",
              "      <th>duration_ms</th>\n",
              "      <th>energy</th>\n",
              "      <th>explicit</th>\n",
              "      <th>id</th>\n",
              "      <th>instrumentalness</th>\n",
              "      <th>key</th>\n",
              "      <th>liveness</th>\n",
              "      <th>loudness</th>\n",
              "      <th>mode</th>\n",
              "      <th>name</th>\n",
              "      <th>popularity</th>\n",
              "      <th>speechiness</th>\n",
              "      <th>tempo</th>\n",
              "      <th>valence</th>\n",
              "      <th>year</th>\n",
              "      <th>genres</th>\n",
              "    </tr>\n",
              "  </thead>\n",
              "  <tbody>\n",
              "    <tr>\n",
              "      <th>7314</th>\n",
              "      <td>0.798</td>\n",
              "      <td>johnny cash</td>\n",
              "      <td>0.862</td>\n",
              "      <td>163046</td>\n",
              "      <td>0.484</td>\n",
              "      <td>0</td>\n",
              "      <td>1Vr6JSWTpl5MIxUHOJ3nny</td>\n",
              "      <td>0.000996</td>\n",
              "      <td>10</td>\n",
              "      <td>0.1050</td>\n",
              "      <td>-11.183</td>\n",
              "      <td>1</td>\n",
              "      <td>i walk the line</td>\n",
              "      <td>48</td>\n",
              "      <td>0.0421</td>\n",
              "      <td>105.834</td>\n",
              "      <td>0.787</td>\n",
              "      <td>1957</td>\n",
              "      <td>['arkansas country', 'outlaw country']</td>\n",
              "    </tr>\n",
              "    <tr>\n",
              "      <th>7221</th>\n",
              "      <td>0.722</td>\n",
              "      <td>dizzy gillespie</td>\n",
              "      <td>0.713</td>\n",
              "      <td>162760</td>\n",
              "      <td>0.462</td>\n",
              "      <td>0</td>\n",
              "      <td>43luWh28le4rVtu7kylUnR</td>\n",
              "      <td>0.017300</td>\n",
              "      <td>5</td>\n",
              "      <td>0.1010</td>\n",
              "      <td>-13.108</td>\n",
              "      <td>0</td>\n",
              "      <td>tin tin deo</td>\n",
              "      <td>34</td>\n",
              "      <td>0.0312</td>\n",
              "      <td>137.407</td>\n",
              "      <td>0.967</td>\n",
              "      <td>1956</td>\n",
              "      <td>['bebop', 'big band', 'contemporary post-bop', 'cool jazz', 'hard bop', 'jazz', 'jazz fusion', 'jazz trumpet', 'latin jazz', 'soul jazz', 'swing', 'vocal jazz']</td>\n",
              "    </tr>\n",
              "    <tr>\n",
              "      <th>7259</th>\n",
              "      <td>0.675</td>\n",
              "      <td>ella fitzgerald</td>\n",
              "      <td>0.626</td>\n",
              "      <td>163333</td>\n",
              "      <td>0.100</td>\n",
              "      <td>0</td>\n",
              "      <td>5JfYrlqAHAY7ZYMoEua53B</td>\n",
              "      <td>0.000000</td>\n",
              "      <td>7</td>\n",
              "      <td>0.0852</td>\n",
              "      <td>-14.999</td>\n",
              "      <td>0</td>\n",
              "      <td>i've got you under my skin</td>\n",
              "      <td>34</td>\n",
              "      <td>0.0523</td>\n",
              "      <td>135.387</td>\n",
              "      <td>0.698</td>\n",
              "      <td>1956</td>\n",
              "      <td>['adult standards', 'jazz blues', 'swing', 'vocal jazz']</td>\n",
              "    </tr>\n",
              "    <tr>\n",
              "      <th>7074</th>\n",
              "      <td>0.676</td>\n",
              "      <td>frank sinatra</td>\n",
              "      <td>0.547</td>\n",
              "      <td>162840</td>\n",
              "      <td>0.208</td>\n",
              "      <td>0</td>\n",
              "      <td>3YCbx1QqGrnxMsPEZLC1CT</td>\n",
              "      <td>0.000000</td>\n",
              "      <td>9</td>\n",
              "      <td>0.1000</td>\n",
              "      <td>-13.458</td>\n",
              "      <td>1</td>\n",
              "      <td>love is here to stay - remastered 1998</td>\n",
              "      <td>58</td>\n",
              "      <td>0.0334</td>\n",
              "      <td>108.999</td>\n",
              "      <td>0.424</td>\n",
              "      <td>1956</td>\n",
              "      <td>['adult standards', 'easy listening', 'lounge']</td>\n",
              "    </tr>\n",
              "    <tr>\n",
              "      <th>6932</th>\n",
              "      <td>0.893</td>\n",
              "      <td>asha bhosle</td>\n",
              "      <td>0.538</td>\n",
              "      <td>163469</td>\n",
              "      <td>0.396</td>\n",
              "      <td>0</td>\n",
              "      <td>0BXh2Vi0il5tC5OHBFDMMM</td>\n",
              "      <td>0.302000</td>\n",
              "      <td>6</td>\n",
              "      <td>0.2760</td>\n",
              "      <td>-12.629</td>\n",
              "      <td>0</td>\n",
              "      <td>chanda mama door ke</td>\n",
              "      <td>25</td>\n",
              "      <td>0.0475</td>\n",
              "      <td>176.937</td>\n",
              "      <td>0.763</td>\n",
              "      <td>1955</td>\n",
              "      <td>['chutney', 'classic bollywood', 'desi pop', 'filmi', 'sufi']</td>\n",
              "    </tr>\n",
              "    <tr>\n",
              "      <th>6797</th>\n",
              "      <td>0.915</td>\n",
              "      <td>doris day</td>\n",
              "      <td>0.391</td>\n",
              "      <td>162813</td>\n",
              "      <td>0.101</td>\n",
              "      <td>0</td>\n",
              "      <td>51SBVSzsXvRaHzEHNE24bZ</td>\n",
              "      <td>0.000000</td>\n",
              "      <td>9</td>\n",
              "      <td>0.1620</td>\n",
              "      <td>-13.862</td>\n",
              "      <td>1</td>\n",
              "      <td>hold me in your arms (with percy faith &amp; his orchestra) - 78rpm version</td>\n",
              "      <td>27</td>\n",
              "      <td>0.0415</td>\n",
              "      <td>81.209</td>\n",
              "      <td>0.148</td>\n",
              "      <td>1954</td>\n",
              "      <td>['adult standards', 'brill building pop', 'easy listening', 'lounge', 'vocal jazz']</td>\n",
              "    </tr>\n",
              "  </tbody>\n",
              "</table>\n",
              "</div>"
            ],
            "text/plain": [
              "      acousticness          artists  danceability  duration_ms  energy  \\\n",
              "7314         0.798      johnny cash         0.862       163046   0.484   \n",
              "7221         0.722  dizzy gillespie         0.713       162760   0.462   \n",
              "7259         0.675  ella fitzgerald         0.626       163333   0.100   \n",
              "7074         0.676    frank sinatra         0.547       162840   0.208   \n",
              "6932         0.893      asha bhosle         0.538       163469   0.396   \n",
              "6797         0.915        doris day         0.391       162813   0.101   \n",
              "\n",
              "      explicit                      id  instrumentalness  key  liveness  \\\n",
              "7314         0  1Vr6JSWTpl5MIxUHOJ3nny          0.000996   10    0.1050   \n",
              "7221         0  43luWh28le4rVtu7kylUnR          0.017300    5    0.1010   \n",
              "7259         0  5JfYrlqAHAY7ZYMoEua53B          0.000000    7    0.0852   \n",
              "7074         0  3YCbx1QqGrnxMsPEZLC1CT          0.000000    9    0.1000   \n",
              "6932         0  0BXh2Vi0il5tC5OHBFDMMM          0.302000    6    0.2760   \n",
              "6797         0  51SBVSzsXvRaHzEHNE24bZ          0.000000    9    0.1620   \n",
              "\n",
              "      loudness  mode  \\\n",
              "7314   -11.183     1   \n",
              "7221   -13.108     0   \n",
              "7259   -14.999     0   \n",
              "7074   -13.458     1   \n",
              "6932   -12.629     0   \n",
              "6797   -13.862     1   \n",
              "\n",
              "                                                                         name  \\\n",
              "7314                                                          i walk the line   \n",
              "7221                                                              tin tin deo   \n",
              "7259                                               i've got you under my skin   \n",
              "7074                                   love is here to stay - remastered 1998   \n",
              "6932                                                      chanda mama door ke   \n",
              "6797  hold me in your arms (with percy faith & his orchestra) - 78rpm version   \n",
              "\n",
              "      popularity  speechiness    tempo  valence  year  \\\n",
              "7314          48       0.0421  105.834    0.787  1957   \n",
              "7221          34       0.0312  137.407    0.967  1956   \n",
              "7259          34       0.0523  135.387    0.698  1956   \n",
              "7074          58       0.0334  108.999    0.424  1956   \n",
              "6932          25       0.0475  176.937    0.763  1955   \n",
              "6797          27       0.0415   81.209    0.148  1954   \n",
              "\n",
              "                                                                                                                                                                genres  \n",
              "7314                                                                                                                            ['arkansas country', 'outlaw country']  \n",
              "7221  ['bebop', 'big band', 'contemporary post-bop', 'cool jazz', 'hard bop', 'jazz', 'jazz fusion', 'jazz trumpet', 'latin jazz', 'soul jazz', 'swing', 'vocal jazz']  \n",
              "7259                                                                                                          ['adult standards', 'jazz blues', 'swing', 'vocal jazz']  \n",
              "7074                                                                                                                   ['adult standards', 'easy listening', 'lounge']  \n",
              "6932                                                                                                     ['chutney', 'classic bollywood', 'desi pop', 'filmi', 'sufi']  \n",
              "6797                                                                               ['adult standards', 'brill building pop', 'easy listening', 'lounge', 'vocal jazz']  "
            ]
          },
          "metadata": {
            "tags": []
          },
          "execution_count": 55
        }
      ]
    },
    {
      "cell_type": "markdown",
      "metadata": {
        "id": "MF-5bapK7Huo"
      },
      "source": [
        "## Modeling Approach #1"
      ]
    },
    {
      "cell_type": "code",
      "metadata": {
        "id": "KYsx-F_57Huo"
      },
      "source": [
        ""
      ],
      "execution_count": null,
      "outputs": []
    },
    {
      "cell_type": "markdown",
      "metadata": {
        "id": "VDe5yq7J7Huo"
      },
      "source": [
        "## Modeling Approach #2"
      ]
    },
    {
      "cell_type": "code",
      "metadata": {
        "id": "k9XAtrYj7Hup"
      },
      "source": [
        ""
      ],
      "execution_count": null,
      "outputs": []
    },
    {
      "cell_type": "markdown",
      "metadata": {
        "id": "Oi4k1dQL7Hup"
      },
      "source": [
        "## Hyper-parameter Tuning for Best Model"
      ]
    },
    {
      "cell_type": "code",
      "metadata": {
        "id": "Sv7-7NR87Hup"
      },
      "source": [
        ""
      ],
      "execution_count": null,
      "outputs": []
    },
    {
      "cell_type": "markdown",
      "metadata": {
        "id": "x3oFY4957Hup"
      },
      "source": [
        "## Save Final Model"
      ]
    },
    {
      "cell_type": "code",
      "metadata": {
        "id": "F6h9k2Zo7Huq"
      },
      "source": [
        "import joblib\n",
        "\n",
        "joblib.dump(model, '../models/model_name.joblib')"
      ],
      "execution_count": null,
      "outputs": []
    },
    {
      "cell_type": "code",
      "metadata": {
        "id": "oPwMFepiMjnC"
      },
      "source": [
        "from google.colab import drive\n",
        "drive.mount('/content/drive')"
      ],
      "execution_count": null,
      "outputs": []
    }
  ]
}